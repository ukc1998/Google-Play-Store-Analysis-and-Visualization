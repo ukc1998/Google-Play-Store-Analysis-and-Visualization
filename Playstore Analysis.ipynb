{
 "cells": [
  {
   "cell_type": "markdown",
   "id": "2596ec85",
   "metadata": {},
   "source": [
    "# Playstore Apps analysis & Visualization"
   ]
  },
  {
   "cell_type": "markdown",
   "id": "d82b87ae",
   "metadata": {},
   "source": [
    "### About the project:\n",
    "In this project, we will be working on a real-world dataset of the google play store, one of the most used applications for downloading android apps. This project aims on cleaning the dataset, analyze the given dataset, and mining informational quality insights. This project also involves visualizing the data to better and easily understand trends and different categories."
   ]
  },
  {
   "cell_type": "markdown",
   "id": "fc1bab33",
   "metadata": {},
   "source": [
    "### Tasks performed in this notebook:\n",
    "\n",
    "1. Raw Data Importing\n",
    "2. Raw Data Cleaning (& analyzing)\n",
    "3. Cleaned Data Exporting \n",
    "\n",
    "\n",
    "##### We have performed these tasks for both of the datsets i.e. playstore_apps.csv and playstore_reviewss.csv "
   ]
  },
  {
   "cell_type": "code",
   "execution_count": 1,
   "id": "6805a207",
   "metadata": {},
   "outputs": [],
   "source": [
    "# importing library\n",
    "\n",
    "import pandas as pd\n",
    "import numpy as np\n",
    "import warnings\n",
    "warnings.filterwarnings('ignore')"
   ]
  },
  {
   "cell_type": "code",
   "execution_count": 2,
   "id": "6fb79747",
   "metadata": {},
   "outputs": [],
   "source": [
    "# loading playstore_apps dataset\n",
    "\n",
    "apps = pd.read_csv('playstore_apps.csv')"
   ]
  },
  {
   "cell_type": "code",
   "execution_count": 3,
   "id": "3eb36ab5",
   "metadata": {},
   "outputs": [],
   "source": [
    "# loading playstore_reviews dataset\n",
    "\n",
    "reviews = pd.read_csv('playstore_reviews.csv')"
   ]
  },
  {
   "cell_type": "markdown",
   "id": "33ee6823",
   "metadata": {},
   "source": [
    "## Apps Dataset"
   ]
  },
  {
   "cell_type": "code",
   "execution_count": 4,
   "id": "a805ee89",
   "metadata": {},
   "outputs": [
    {
     "data": {
      "text/html": [
       "<div>\n",
       "<style scoped>\n",
       "    .dataframe tbody tr th:only-of-type {\n",
       "        vertical-align: middle;\n",
       "    }\n",
       "\n",
       "    .dataframe tbody tr th {\n",
       "        vertical-align: top;\n",
       "    }\n",
       "\n",
       "    .dataframe thead th {\n",
       "        text-align: right;\n",
       "    }\n",
       "</style>\n",
       "<table border=\"1\" class=\"dataframe\">\n",
       "  <thead>\n",
       "    <tr style=\"text-align: right;\">\n",
       "      <th></th>\n",
       "      <th>App</th>\n",
       "      <th>Category</th>\n",
       "      <th>Rating</th>\n",
       "      <th>Reviews</th>\n",
       "      <th>Size</th>\n",
       "      <th>Installs</th>\n",
       "      <th>Type</th>\n",
       "      <th>Price</th>\n",
       "      <th>Content Rating</th>\n",
       "      <th>Genres</th>\n",
       "      <th>Last Updated</th>\n",
       "      <th>Current Ver</th>\n",
       "      <th>Android Ver</th>\n",
       "    </tr>\n",
       "  </thead>\n",
       "  <tbody>\n",
       "    <tr>\n",
       "      <th>0</th>\n",
       "      <td>Photo Editor &amp; Candy Camera &amp; Grid &amp; ScrapBook</td>\n",
       "      <td>ART_AND_DESIGN</td>\n",
       "      <td>4.1</td>\n",
       "      <td>159.0</td>\n",
       "      <td>19M</td>\n",
       "      <td>10000.0</td>\n",
       "      <td>Free</td>\n",
       "      <td>0.0</td>\n",
       "      <td>Everyone</td>\n",
       "      <td>Art &amp; Design</td>\n",
       "      <td>07-01-2018</td>\n",
       "      <td>1.0.0</td>\n",
       "      <td>4.0.3 and up</td>\n",
       "    </tr>\n",
       "    <tr>\n",
       "      <th>1</th>\n",
       "      <td>Coloring book moana</td>\n",
       "      <td>ART_AND_DESIGN</td>\n",
       "      <td>3.9</td>\n",
       "      <td>967.0</td>\n",
       "      <td>14M</td>\n",
       "      <td>500000.0</td>\n",
       "      <td>Free</td>\n",
       "      <td>0.0</td>\n",
       "      <td>Everyone</td>\n",
       "      <td>Art &amp; Design;Pretend Play</td>\n",
       "      <td>15-01-2018</td>\n",
       "      <td>2.0.0</td>\n",
       "      <td>4.0.3 and up</td>\n",
       "    </tr>\n",
       "    <tr>\n",
       "      <th>2</th>\n",
       "      <td>U Launcher Lite – FREE Live Cool Themes, Hide ...</td>\n",
       "      <td>ART_AND_DESIGN</td>\n",
       "      <td>4.7</td>\n",
       "      <td>87510.0</td>\n",
       "      <td>8.7M</td>\n",
       "      <td>5000000.0</td>\n",
       "      <td>Free</td>\n",
       "      <td>0.0</td>\n",
       "      <td>Everyone</td>\n",
       "      <td>Art &amp; Design</td>\n",
       "      <td>01-08-2018</td>\n",
       "      <td>1.2.4</td>\n",
       "      <td>4.0.3 and up</td>\n",
       "    </tr>\n",
       "    <tr>\n",
       "      <th>3</th>\n",
       "      <td>Sketch - Draw &amp; Paint</td>\n",
       "      <td>ART_AND_DESIGN</td>\n",
       "      <td>4.5</td>\n",
       "      <td>215644.0</td>\n",
       "      <td>25M</td>\n",
       "      <td>50000000.0</td>\n",
       "      <td>Free</td>\n",
       "      <td>0.0</td>\n",
       "      <td>Teen</td>\n",
       "      <td>Art &amp; Design</td>\n",
       "      <td>08-06-2018</td>\n",
       "      <td>Varies with device</td>\n",
       "      <td>4.2 and up</td>\n",
       "    </tr>\n",
       "    <tr>\n",
       "      <th>4</th>\n",
       "      <td>Pixel Draw - Number Art Coloring Book</td>\n",
       "      <td>ART_AND_DESIGN</td>\n",
       "      <td>4.3</td>\n",
       "      <td>967.0</td>\n",
       "      <td>2.8M</td>\n",
       "      <td>100000.0</td>\n",
       "      <td>Free</td>\n",
       "      <td>0.0</td>\n",
       "      <td>Everyone</td>\n",
       "      <td>Art &amp; Design;Creativity</td>\n",
       "      <td>20-06-2018</td>\n",
       "      <td>1.1</td>\n",
       "      <td>4.4 and up</td>\n",
       "    </tr>\n",
       "  </tbody>\n",
       "</table>\n",
       "</div>"
      ],
      "text/plain": [
       "                                                 App        Category  Rating  \\\n",
       "0     Photo Editor & Candy Camera & Grid & ScrapBook  ART_AND_DESIGN     4.1   \n",
       "1                                Coloring book moana  ART_AND_DESIGN     3.9   \n",
       "2  U Launcher Lite – FREE Live Cool Themes, Hide ...  ART_AND_DESIGN     4.7   \n",
       "3                              Sketch - Draw & Paint  ART_AND_DESIGN     4.5   \n",
       "4              Pixel Draw - Number Art Coloring Book  ART_AND_DESIGN     4.3   \n",
       "\n",
       "    Reviews  Size    Installs  Type  Price Content Rating  \\\n",
       "0     159.0   19M     10000.0  Free    0.0       Everyone   \n",
       "1     967.0   14M    500000.0  Free    0.0       Everyone   \n",
       "2   87510.0  8.7M   5000000.0  Free    0.0       Everyone   \n",
       "3  215644.0   25M  50000000.0  Free    0.0           Teen   \n",
       "4     967.0  2.8M    100000.0  Free    0.0       Everyone   \n",
       "\n",
       "                      Genres Last Updated         Current Ver   Android Ver  \n",
       "0               Art & Design   07-01-2018               1.0.0  4.0.3 and up  \n",
       "1  Art & Design;Pretend Play   15-01-2018               2.0.0  4.0.3 and up  \n",
       "2               Art & Design   01-08-2018               1.2.4  4.0.3 and up  \n",
       "3               Art & Design   08-06-2018  Varies with device    4.2 and up  \n",
       "4    Art & Design;Creativity   20-06-2018                 1.1    4.4 and up  "
      ]
     },
     "execution_count": 4,
     "metadata": {},
     "output_type": "execute_result"
    }
   ],
   "source": [
    "# Looking at top 5 rows of apps dataset\n",
    "\n",
    "apps.head()"
   ]
  },
  {
   "cell_type": "code",
   "execution_count": 5,
   "id": "6108e237",
   "metadata": {},
   "outputs": [
    {
     "name": "stdout",
     "output_type": "stream",
     "text": [
      "<class 'pandas.core.frame.DataFrame'>\n",
      "RangeIndex: 10841 entries, 0 to 10840\n",
      "Data columns (total 13 columns):\n",
      " #   Column          Non-Null Count  Dtype  \n",
      "---  ------          --------------  -----  \n",
      " 0   App             10841 non-null  object \n",
      " 1   Category        10841 non-null  object \n",
      " 2   Rating          9367 non-null   float64\n",
      " 3   Reviews         10840 non-null  float64\n",
      " 4   Size            10841 non-null  object \n",
      " 5   Installs        10840 non-null  float64\n",
      " 6   Type            10840 non-null  object \n",
      " 7   Price           10840 non-null  float64\n",
      " 8   Content Rating  10840 non-null  object \n",
      " 9   Genres          10841 non-null  object \n",
      " 10  Last Updated    10840 non-null  object \n",
      " 11  Current Ver     10833 non-null  object \n",
      " 12  Android Ver     10838 non-null  object \n",
      "dtypes: float64(4), object(9)\n",
      "memory usage: 1.1+ MB\n"
     ]
    }
   ],
   "source": [
    "# Looking at information of apps dataset\n",
    "\n",
    "apps.info()"
   ]
  },
  {
   "cell_type": "code",
   "execution_count": 6,
   "id": "44f1e67a",
   "metadata": {},
   "outputs": [
    {
     "data": {
      "text/plain": [
       "(10841, 13)"
      ]
     },
     "execution_count": 6,
     "metadata": {},
     "output_type": "execute_result"
    }
   ],
   "source": [
    "# Looking at the dimension\n",
    "\n",
    "apps.shape"
   ]
  },
  {
   "cell_type": "code",
   "execution_count": 7,
   "id": "209dfe1b",
   "metadata": {},
   "outputs": [
    {
     "data": {
      "text/plain": [
       "483"
      ]
     },
     "execution_count": 7,
     "metadata": {},
     "output_type": "execute_result"
    }
   ],
   "source": [
    "# Looking for duplicate records\n",
    "\n",
    "apps.duplicated().sum()"
   ]
  },
  {
   "cell_type": "code",
   "execution_count": 8,
   "id": "d796bc1e",
   "metadata": {},
   "outputs": [],
   "source": [
    "# dropping all duplicates, but keeping the first one\n",
    "\n",
    "apps.drop_duplicates(keep=\"first\", inplace=True)"
   ]
  },
  {
   "cell_type": "code",
   "execution_count": 9,
   "id": "c3bdbbe5",
   "metadata": {},
   "outputs": [
    {
     "data": {
      "text/plain": [
       "0"
      ]
     },
     "execution_count": 9,
     "metadata": {},
     "output_type": "execute_result"
    }
   ],
   "source": [
    "# cross-checking duplicate records\n",
    "\n",
    "apps.duplicated().sum()"
   ]
  },
  {
   "cell_type": "code",
   "execution_count": 10,
   "id": "1c1c3aa7",
   "metadata": {},
   "outputs": [
    {
     "data": {
      "text/plain": [
       "(10358, 13)"
      ]
     },
     "execution_count": 10,
     "metadata": {},
     "output_type": "execute_result"
    }
   ],
   "source": [
    "# Looking at new dimension\n",
    "apps.shape"
   ]
  },
  {
   "cell_type": "code",
   "execution_count": 11,
   "id": "b7d1384c",
   "metadata": {},
   "outputs": [
    {
     "data": {
      "text/plain": [
       "App                  0\n",
       "Category             0\n",
       "Rating            1465\n",
       "Reviews              1\n",
       "Size                 0\n",
       "Installs             1\n",
       "Type                 1\n",
       "Price                1\n",
       "Content Rating       1\n",
       "Genres               0\n",
       "Last Updated         1\n",
       "Current Ver          8\n",
       "Android Ver          3\n",
       "dtype: int64"
      ]
     },
     "execution_count": 11,
     "metadata": {},
     "output_type": "execute_result"
    }
   ],
   "source": [
    "# looking for number of null values in each columns\n",
    "\n",
    "apps.isnull().sum()"
   ]
  },
  {
   "cell_type": "code",
   "execution_count": 12,
   "id": "58cb61a4",
   "metadata": {},
   "outputs": [
    {
     "data": {
      "text/plain": [
       "App               9660\n",
       "Category            34\n",
       "Rating              40\n",
       "Reviews           6001\n",
       "Size               462\n",
       "Installs            20\n",
       "Type                 3\n",
       "Price               92\n",
       "Content Rating       6\n",
       "Genres             120\n",
       "Last Updated      1377\n",
       "Current Ver       2784\n",
       "Android Ver         33\n",
       "dtype: int64"
      ]
     },
     "execution_count": 12,
     "metadata": {},
     "output_type": "execute_result"
    }
   ],
   "source": [
    "# looking for number of unique values in each columns\n",
    "\n",
    "apps.nunique()"
   ]
  },
  {
   "cell_type": "markdown",
   "id": "b4941a04",
   "metadata": {},
   "source": [
    "**App Column**\n",
    "\n",
    "App column has only 9660 unique values out of 10358 records. So, we need to drop these duplicates. That means we have 698 duplicates."
   ]
  },
  {
   "cell_type": "code",
   "execution_count": 13,
   "id": "6b38aad2",
   "metadata": {},
   "outputs": [],
   "source": [
    "# Transforming the App column to a proper format\n",
    "\n",
    "apps['App'] = apps['App'].str.title()"
   ]
  },
  {
   "cell_type": "code",
   "execution_count": 14,
   "id": "788a5824",
   "metadata": {},
   "outputs": [
    {
     "data": {
      "text/plain": [
       "9639"
      ]
     },
     "execution_count": 14,
     "metadata": {},
     "output_type": "execute_result"
    }
   ],
   "source": [
    "# Lets check for the number of unique values present in the app column after giving a proper formatting to App names.\n",
    "\n",
    "len(apps['App'].unique())"
   ]
  },
  {
   "cell_type": "code",
   "execution_count": 15,
   "id": "2fc9cfb6",
   "metadata": {},
   "outputs": [
    {
     "data": {
      "text/plain": [
       "719"
      ]
     },
     "execution_count": 15,
     "metadata": {},
     "output_type": "execute_result"
    }
   ],
   "source": [
    "# Lets check for the number of duplicates present in the app column after giving a proper formatting to App names.\n",
    "\n",
    "apps['App'].duplicated().sum()"
   ]
  },
  {
   "cell_type": "code",
   "execution_count": 16,
   "id": "7760b70a",
   "metadata": {},
   "outputs": [
    {
     "data": {
      "text/html": [
       "<div>\n",
       "<style scoped>\n",
       "    .dataframe tbody tr th:only-of-type {\n",
       "        vertical-align: middle;\n",
       "    }\n",
       "\n",
       "    .dataframe tbody tr th {\n",
       "        vertical-align: top;\n",
       "    }\n",
       "\n",
       "    .dataframe thead th {\n",
       "        text-align: right;\n",
       "    }\n",
       "</style>\n",
       "<table border=\"1\" class=\"dataframe\">\n",
       "  <thead>\n",
       "    <tr style=\"text-align: right;\">\n",
       "      <th></th>\n",
       "      <th>App</th>\n",
       "      <th>Category</th>\n",
       "      <th>Rating</th>\n",
       "      <th>Reviews</th>\n",
       "      <th>Size</th>\n",
       "      <th>Installs</th>\n",
       "      <th>Type</th>\n",
       "      <th>Price</th>\n",
       "      <th>Content Rating</th>\n",
       "      <th>Genres</th>\n",
       "      <th>Last Updated</th>\n",
       "      <th>Current Ver</th>\n",
       "      <th>Android Ver</th>\n",
       "    </tr>\n",
       "  </thead>\n",
       "  <tbody>\n",
       "    <tr>\n",
       "      <th>285</th>\n",
       "      <td>Quick Pdf Scanner + Ocr Free</td>\n",
       "      <td>BUSINESS</td>\n",
       "      <td>4.2</td>\n",
       "      <td>80804.0</td>\n",
       "      <td>Varies with device</td>\n",
       "      <td>5.000000e+06</td>\n",
       "      <td>Free</td>\n",
       "      <td>0.0</td>\n",
       "      <td>Everyone</td>\n",
       "      <td>Business</td>\n",
       "      <td>26-02-2018</td>\n",
       "      <td>Varies with device</td>\n",
       "      <td>4.0.3 and up</td>\n",
       "    </tr>\n",
       "    <tr>\n",
       "      <th>293</th>\n",
       "      <td>Officesuite : Free Office + Pdf Editor</td>\n",
       "      <td>BUSINESS</td>\n",
       "      <td>4.3</td>\n",
       "      <td>1002859.0</td>\n",
       "      <td>35M</td>\n",
       "      <td>1.000000e+08</td>\n",
       "      <td>Free</td>\n",
       "      <td>0.0</td>\n",
       "      <td>Everyone</td>\n",
       "      <td>Business</td>\n",
       "      <td>02-08-2018</td>\n",
       "      <td>9.7.14188</td>\n",
       "      <td>4.1 and up</td>\n",
       "    </tr>\n",
       "    <tr>\n",
       "      <th>294</th>\n",
       "      <td>Slack</td>\n",
       "      <td>BUSINESS</td>\n",
       "      <td>4.4</td>\n",
       "      <td>51510.0</td>\n",
       "      <td>Varies with device</td>\n",
       "      <td>5.000000e+06</td>\n",
       "      <td>Free</td>\n",
       "      <td>0.0</td>\n",
       "      <td>Everyone</td>\n",
       "      <td>Business</td>\n",
       "      <td>02-08-2018</td>\n",
       "      <td>Varies with device</td>\n",
       "      <td>Varies with device</td>\n",
       "    </tr>\n",
       "    <tr>\n",
       "      <th>382</th>\n",
       "      <td>Messenger – Text And Video Chat For Free</td>\n",
       "      <td>COMMUNICATION</td>\n",
       "      <td>4.0</td>\n",
       "      <td>56646578.0</td>\n",
       "      <td>Varies with device</td>\n",
       "      <td>1.000000e+09</td>\n",
       "      <td>Free</td>\n",
       "      <td>0.0</td>\n",
       "      <td>Everyone</td>\n",
       "      <td>Communication</td>\n",
       "      <td>01-08-2018</td>\n",
       "      <td>Varies with device</td>\n",
       "      <td>Varies with device</td>\n",
       "    </tr>\n",
       "    <tr>\n",
       "      <th>383</th>\n",
       "      <td>Imo Free Video Calls And Chat</td>\n",
       "      <td>COMMUNICATION</td>\n",
       "      <td>4.3</td>\n",
       "      <td>4785988.0</td>\n",
       "      <td>11M</td>\n",
       "      <td>5.000000e+08</td>\n",
       "      <td>Free</td>\n",
       "      <td>0.0</td>\n",
       "      <td>Everyone</td>\n",
       "      <td>Communication</td>\n",
       "      <td>08-06-2018</td>\n",
       "      <td>9.8.000000010501</td>\n",
       "      <td>4.0 and up</td>\n",
       "    </tr>\n",
       "    <tr>\n",
       "      <th>...</th>\n",
       "      <td>...</td>\n",
       "      <td>...</td>\n",
       "      <td>...</td>\n",
       "      <td>...</td>\n",
       "      <td>...</td>\n",
       "      <td>...</td>\n",
       "      <td>...</td>\n",
       "      <td>...</td>\n",
       "      <td>...</td>\n",
       "      <td>...</td>\n",
       "      <td>...</td>\n",
       "      <td>...</td>\n",
       "      <td>...</td>\n",
       "    </tr>\n",
       "    <tr>\n",
       "      <th>10647</th>\n",
       "      <td>Motorola Fm Radio</td>\n",
       "      <td>VIDEO_PLAYERS</td>\n",
       "      <td>3.9</td>\n",
       "      <td>54815.0</td>\n",
       "      <td>Varies with device</td>\n",
       "      <td>1.000000e+08</td>\n",
       "      <td>Free</td>\n",
       "      <td>0.0</td>\n",
       "      <td>Everyone</td>\n",
       "      <td>Video Players &amp; Editors</td>\n",
       "      <td>02-05-2018</td>\n",
       "      <td>Varies with device</td>\n",
       "      <td>Varies with device</td>\n",
       "    </tr>\n",
       "    <tr>\n",
       "      <th>10715</th>\n",
       "      <td>Farmersonly Dating</td>\n",
       "      <td>DATING</td>\n",
       "      <td>3.0</td>\n",
       "      <td>1145.0</td>\n",
       "      <td>1.4M</td>\n",
       "      <td>1.000000e+05</td>\n",
       "      <td>Free</td>\n",
       "      <td>0.0</td>\n",
       "      <td>Mature 17+</td>\n",
       "      <td>Dating</td>\n",
       "      <td>25-02-2016</td>\n",
       "      <td>2.2</td>\n",
       "      <td>4.0 and up</td>\n",
       "    </tr>\n",
       "    <tr>\n",
       "      <th>10720</th>\n",
       "      <td>Firefox Focus: The Privacy Browser</td>\n",
       "      <td>COMMUNICATION</td>\n",
       "      <td>4.4</td>\n",
       "      <td>36981.0</td>\n",
       "      <td>4.0M</td>\n",
       "      <td>1.000000e+06</td>\n",
       "      <td>Free</td>\n",
       "      <td>0.0</td>\n",
       "      <td>Everyone</td>\n",
       "      <td>Communication</td>\n",
       "      <td>06-07-2018</td>\n",
       "      <td>5.2</td>\n",
       "      <td>5.0 and up</td>\n",
       "    </tr>\n",
       "    <tr>\n",
       "      <th>10730</th>\n",
       "      <td>Fp Notebook</td>\n",
       "      <td>MEDICAL</td>\n",
       "      <td>4.5</td>\n",
       "      <td>410.0</td>\n",
       "      <td>60M</td>\n",
       "      <td>5.000000e+04</td>\n",
       "      <td>Free</td>\n",
       "      <td>0.0</td>\n",
       "      <td>Everyone</td>\n",
       "      <td>Medical</td>\n",
       "      <td>24-03-2018</td>\n",
       "      <td>2.1.0.372</td>\n",
       "      <td>4.4 and up</td>\n",
       "    </tr>\n",
       "    <tr>\n",
       "      <th>10753</th>\n",
       "      <td>Slickdeals: Coupons &amp; Shopping</td>\n",
       "      <td>SHOPPING</td>\n",
       "      <td>4.5</td>\n",
       "      <td>33599.0</td>\n",
       "      <td>12M</td>\n",
       "      <td>1.000000e+06</td>\n",
       "      <td>Free</td>\n",
       "      <td>0.0</td>\n",
       "      <td>Everyone</td>\n",
       "      <td>Shopping</td>\n",
       "      <td>30-07-2018</td>\n",
       "      <td>3.9</td>\n",
       "      <td>4.4 and up</td>\n",
       "    </tr>\n",
       "  </tbody>\n",
       "</table>\n",
       "<p>719 rows × 13 columns</p>\n",
       "</div>"
      ],
      "text/plain": [
       "                                            App       Category  Rating  \\\n",
       "285                Quick Pdf Scanner + Ocr Free       BUSINESS     4.2   \n",
       "293      Officesuite : Free Office + Pdf Editor       BUSINESS     4.3   \n",
       "294                                       Slack       BUSINESS     4.4   \n",
       "382    Messenger – Text And Video Chat For Free  COMMUNICATION     4.0   \n",
       "383               Imo Free Video Calls And Chat  COMMUNICATION     4.3   \n",
       "...                                         ...            ...     ...   \n",
       "10647                         Motorola Fm Radio  VIDEO_PLAYERS     3.9   \n",
       "10715                        Farmersonly Dating         DATING     3.0   \n",
       "10720        Firefox Focus: The Privacy Browser  COMMUNICATION     4.4   \n",
       "10730                               Fp Notebook        MEDICAL     4.5   \n",
       "10753            Slickdeals: Coupons & Shopping       SHOPPING     4.5   \n",
       "\n",
       "          Reviews                Size      Installs  Type  Price  \\\n",
       "285       80804.0  Varies with device  5.000000e+06  Free    0.0   \n",
       "293     1002859.0                 35M  1.000000e+08  Free    0.0   \n",
       "294       51510.0  Varies with device  5.000000e+06  Free    0.0   \n",
       "382    56646578.0  Varies with device  1.000000e+09  Free    0.0   \n",
       "383     4785988.0                 11M  5.000000e+08  Free    0.0   \n",
       "...           ...                 ...           ...   ...    ...   \n",
       "10647     54815.0  Varies with device  1.000000e+08  Free    0.0   \n",
       "10715      1145.0                1.4M  1.000000e+05  Free    0.0   \n",
       "10720     36981.0                4.0M  1.000000e+06  Free    0.0   \n",
       "10730       410.0                 60M  5.000000e+04  Free    0.0   \n",
       "10753     33599.0                 12M  1.000000e+06  Free    0.0   \n",
       "\n",
       "      Content Rating                   Genres Last Updated  \\\n",
       "285         Everyone                 Business   26-02-2018   \n",
       "293         Everyone                 Business   02-08-2018   \n",
       "294         Everyone                 Business   02-08-2018   \n",
       "382         Everyone            Communication   01-08-2018   \n",
       "383         Everyone            Communication   08-06-2018   \n",
       "...              ...                      ...          ...   \n",
       "10647       Everyone  Video Players & Editors   02-05-2018   \n",
       "10715     Mature 17+                   Dating   25-02-2016   \n",
       "10720       Everyone            Communication   06-07-2018   \n",
       "10730       Everyone                  Medical   24-03-2018   \n",
       "10753       Everyone                 Shopping   30-07-2018   \n",
       "\n",
       "              Current Ver         Android Ver  \n",
       "285    Varies with device        4.0.3 and up  \n",
       "293             9.7.14188          4.1 and up  \n",
       "294    Varies with device  Varies with device  \n",
       "382    Varies with device  Varies with device  \n",
       "383      9.8.000000010501          4.0 and up  \n",
       "...                   ...                 ...  \n",
       "10647  Varies with device  Varies with device  \n",
       "10715                 2.2          4.0 and up  \n",
       "10720                 5.2          5.0 and up  \n",
       "10730           2.1.0.372          4.4 and up  \n",
       "10753                 3.9          4.4 and up  \n",
       "\n",
       "[719 rows x 13 columns]"
      ]
     },
     "execution_count": 16,
     "metadata": {},
     "output_type": "execute_result"
    }
   ],
   "source": [
    "# Just overviewing the duplicates\n",
    "\n",
    "apps[apps['App'].duplicated()]"
   ]
  },
  {
   "cell_type": "code",
   "execution_count": 17,
   "id": "23b01478",
   "metadata": {},
   "outputs": [
    {
     "data": {
      "text/plain": [
       "Roblox                           9\n",
       "8 Ball Pool                      7\n",
       "Helix Jump                       6\n",
       "Bubble Shooter                   6\n",
       "Zombie Catchers                  6\n",
       "                                ..\n",
       "Cf-Bench                         1\n",
       "Easynote Notepad | To Do List    1\n",
       "Travelpirates                    1\n",
       "Creative Destruction             1\n",
       "Iobd2-Cf                         1\n",
       "Name: App, Length: 9639, dtype: int64"
      ]
     },
     "execution_count": 17,
     "metadata": {},
     "output_type": "execute_result"
    }
   ],
   "source": [
    "# Looking for number of values for each unique value in the app column\n",
    "\n",
    "apps['App'].value_counts()"
   ]
  },
  {
   "cell_type": "code",
   "execution_count": 18,
   "id": "380798b0",
   "metadata": {},
   "outputs": [
    {
     "data": {
      "text/html": [
       "<div>\n",
       "<style scoped>\n",
       "    .dataframe tbody tr th:only-of-type {\n",
       "        vertical-align: middle;\n",
       "    }\n",
       "\n",
       "    .dataframe tbody tr th {\n",
       "        vertical-align: top;\n",
       "    }\n",
       "\n",
       "    .dataframe thead th {\n",
       "        text-align: right;\n",
       "    }\n",
       "</style>\n",
       "<table border=\"1\" class=\"dataframe\">\n",
       "  <thead>\n",
       "    <tr style=\"text-align: right;\">\n",
       "      <th></th>\n",
       "      <th>App</th>\n",
       "      <th>Category</th>\n",
       "      <th>Rating</th>\n",
       "      <th>Reviews</th>\n",
       "      <th>Size</th>\n",
       "      <th>Installs</th>\n",
       "      <th>Type</th>\n",
       "      <th>Price</th>\n",
       "      <th>Content Rating</th>\n",
       "      <th>Genres</th>\n",
       "      <th>Last Updated</th>\n",
       "      <th>Current Ver</th>\n",
       "      <th>Android Ver</th>\n",
       "    </tr>\n",
       "  </thead>\n",
       "  <tbody>\n",
       "    <tr>\n",
       "      <th>1653</th>\n",
       "      <td>Roblox</td>\n",
       "      <td>GAME</td>\n",
       "      <td>4.5</td>\n",
       "      <td>4447388.0</td>\n",
       "      <td>67M</td>\n",
       "      <td>100000000.0</td>\n",
       "      <td>Free</td>\n",
       "      <td>0.0</td>\n",
       "      <td>Everyone 10+</td>\n",
       "      <td>Adventure;Action &amp; Adventure</td>\n",
       "      <td>31-07-2018</td>\n",
       "      <td>2.347.225742</td>\n",
       "      <td>4.1 and up</td>\n",
       "    </tr>\n",
       "    <tr>\n",
       "      <th>1701</th>\n",
       "      <td>Roblox</td>\n",
       "      <td>GAME</td>\n",
       "      <td>4.5</td>\n",
       "      <td>4447346.0</td>\n",
       "      <td>67M</td>\n",
       "      <td>100000000.0</td>\n",
       "      <td>Free</td>\n",
       "      <td>0.0</td>\n",
       "      <td>Everyone 10+</td>\n",
       "      <td>Adventure;Action &amp; Adventure</td>\n",
       "      <td>31-07-2018</td>\n",
       "      <td>2.347.225742</td>\n",
       "      <td>4.1 and up</td>\n",
       "    </tr>\n",
       "    <tr>\n",
       "      <th>1748</th>\n",
       "      <td>Roblox</td>\n",
       "      <td>GAME</td>\n",
       "      <td>4.5</td>\n",
       "      <td>4448791.0</td>\n",
       "      <td>67M</td>\n",
       "      <td>100000000.0</td>\n",
       "      <td>Free</td>\n",
       "      <td>0.0</td>\n",
       "      <td>Everyone 10+</td>\n",
       "      <td>Adventure;Action &amp; Adventure</td>\n",
       "      <td>31-07-2018</td>\n",
       "      <td>2.347.225742</td>\n",
       "      <td>4.1 and up</td>\n",
       "    </tr>\n",
       "    <tr>\n",
       "      <th>1841</th>\n",
       "      <td>Roblox</td>\n",
       "      <td>GAME</td>\n",
       "      <td>4.5</td>\n",
       "      <td>4449882.0</td>\n",
       "      <td>67M</td>\n",
       "      <td>100000000.0</td>\n",
       "      <td>Free</td>\n",
       "      <td>0.0</td>\n",
       "      <td>Everyone 10+</td>\n",
       "      <td>Adventure;Action &amp; Adventure</td>\n",
       "      <td>31-07-2018</td>\n",
       "      <td>2.347.225742</td>\n",
       "      <td>4.1 and up</td>\n",
       "    </tr>\n",
       "    <tr>\n",
       "      <th>1870</th>\n",
       "      <td>Roblox</td>\n",
       "      <td>GAME</td>\n",
       "      <td>4.5</td>\n",
       "      <td>4449910.0</td>\n",
       "      <td>67M</td>\n",
       "      <td>100000000.0</td>\n",
       "      <td>Free</td>\n",
       "      <td>0.0</td>\n",
       "      <td>Everyone 10+</td>\n",
       "      <td>Adventure;Action &amp; Adventure</td>\n",
       "      <td>31-07-2018</td>\n",
       "      <td>2.347.225742</td>\n",
       "      <td>4.1 and up</td>\n",
       "    </tr>\n",
       "    <tr>\n",
       "      <th>2016</th>\n",
       "      <td>Roblox</td>\n",
       "      <td>FAMILY</td>\n",
       "      <td>4.5</td>\n",
       "      <td>4449910.0</td>\n",
       "      <td>67M</td>\n",
       "      <td>100000000.0</td>\n",
       "      <td>Free</td>\n",
       "      <td>0.0</td>\n",
       "      <td>Everyone 10+</td>\n",
       "      <td>Adventure;Action &amp; Adventure</td>\n",
       "      <td>31-07-2018</td>\n",
       "      <td>2.347.225742</td>\n",
       "      <td>4.1 and up</td>\n",
       "    </tr>\n",
       "    <tr>\n",
       "      <th>2088</th>\n",
       "      <td>Roblox</td>\n",
       "      <td>FAMILY</td>\n",
       "      <td>4.5</td>\n",
       "      <td>4450855.0</td>\n",
       "      <td>67M</td>\n",
       "      <td>100000000.0</td>\n",
       "      <td>Free</td>\n",
       "      <td>0.0</td>\n",
       "      <td>Everyone 10+</td>\n",
       "      <td>Adventure;Action &amp; Adventure</td>\n",
       "      <td>31-07-2018</td>\n",
       "      <td>2.347.225742</td>\n",
       "      <td>4.1 and up</td>\n",
       "    </tr>\n",
       "    <tr>\n",
       "      <th>2206</th>\n",
       "      <td>Roblox</td>\n",
       "      <td>FAMILY</td>\n",
       "      <td>4.5</td>\n",
       "      <td>4450890.0</td>\n",
       "      <td>67M</td>\n",
       "      <td>100000000.0</td>\n",
       "      <td>Free</td>\n",
       "      <td>0.0</td>\n",
       "      <td>Everyone 10+</td>\n",
       "      <td>Adventure;Action &amp; Adventure</td>\n",
       "      <td>31-07-2018</td>\n",
       "      <td>2.347.225742</td>\n",
       "      <td>4.1 and up</td>\n",
       "    </tr>\n",
       "    <tr>\n",
       "      <th>4527</th>\n",
       "      <td>Roblox</td>\n",
       "      <td>FAMILY</td>\n",
       "      <td>4.5</td>\n",
       "      <td>4443407.0</td>\n",
       "      <td>67M</td>\n",
       "      <td>100000000.0</td>\n",
       "      <td>Free</td>\n",
       "      <td>0.0</td>\n",
       "      <td>Everyone 10+</td>\n",
       "      <td>Adventure;Action &amp; Adventure</td>\n",
       "      <td>31-07-2018</td>\n",
       "      <td>2.347.225742</td>\n",
       "      <td>4.1 and up</td>\n",
       "    </tr>\n",
       "  </tbody>\n",
       "</table>\n",
       "</div>"
      ],
      "text/plain": [
       "         App Category  Rating    Reviews Size     Installs  Type  Price  \\\n",
       "1653  Roblox     GAME     4.5  4447388.0  67M  100000000.0  Free    0.0   \n",
       "1701  Roblox     GAME     4.5  4447346.0  67M  100000000.0  Free    0.0   \n",
       "1748  Roblox     GAME     4.5  4448791.0  67M  100000000.0  Free    0.0   \n",
       "1841  Roblox     GAME     4.5  4449882.0  67M  100000000.0  Free    0.0   \n",
       "1870  Roblox     GAME     4.5  4449910.0  67M  100000000.0  Free    0.0   \n",
       "2016  Roblox   FAMILY     4.5  4449910.0  67M  100000000.0  Free    0.0   \n",
       "2088  Roblox   FAMILY     4.5  4450855.0  67M  100000000.0  Free    0.0   \n",
       "2206  Roblox   FAMILY     4.5  4450890.0  67M  100000000.0  Free    0.0   \n",
       "4527  Roblox   FAMILY     4.5  4443407.0  67M  100000000.0  Free    0.0   \n",
       "\n",
       "     Content Rating                        Genres Last Updated   Current Ver  \\\n",
       "1653   Everyone 10+  Adventure;Action & Adventure   31-07-2018  2.347.225742   \n",
       "1701   Everyone 10+  Adventure;Action & Adventure   31-07-2018  2.347.225742   \n",
       "1748   Everyone 10+  Adventure;Action & Adventure   31-07-2018  2.347.225742   \n",
       "1841   Everyone 10+  Adventure;Action & Adventure   31-07-2018  2.347.225742   \n",
       "1870   Everyone 10+  Adventure;Action & Adventure   31-07-2018  2.347.225742   \n",
       "2016   Everyone 10+  Adventure;Action & Adventure   31-07-2018  2.347.225742   \n",
       "2088   Everyone 10+  Adventure;Action & Adventure   31-07-2018  2.347.225742   \n",
       "2206   Everyone 10+  Adventure;Action & Adventure   31-07-2018  2.347.225742   \n",
       "4527   Everyone 10+  Adventure;Action & Adventure   31-07-2018  2.347.225742   \n",
       "\n",
       "     Android Ver  \n",
       "1653  4.1 and up  \n",
       "1701  4.1 and up  \n",
       "1748  4.1 and up  \n",
       "1841  4.1 and up  \n",
       "1870  4.1 and up  \n",
       "2016  4.1 and up  \n",
       "2088  4.1 and up  \n",
       "2206  4.1 and up  \n",
       "4527  4.1 and up  "
      ]
     },
     "execution_count": 18,
     "metadata": {},
     "output_type": "execute_result"
    }
   ],
   "source": [
    "# Selecting the App repeating most frequently for analysis purpose\n",
    "\n",
    "apps[apps['App'] == \"Roblox\"]"
   ]
  },
  {
   "cell_type": "markdown",
   "id": "26619d6a",
   "metadata": {},
   "source": [
    "###### Observation:\n",
    "\n",
    "Here we can see that records having 'Roblox' as App name differ only in terms of Category and Number of Reviews.\n",
    "So, we are going to select only that record which has the highest number of reviews. The problem occurs because of the scrapping technique. Scrapping has been done at different point of time because of which the values of different columns for the same app name are different."
   ]
  },
  {
   "cell_type": "markdown",
   "id": "8a933f08",
   "metadata": {},
   "source": [
    "###### Possible solution:"
   ]
  },
  {
   "cell_type": "code",
   "execution_count": 19,
   "id": "44d05c3a",
   "metadata": {},
   "outputs": [],
   "source": [
    "# changing datatype of Last Updated from object--->datetime format so that...\n",
    "# ...we can sort duplicates with respect to Last Updated\n",
    "\n",
    "apps['Last Updated'] = apps['Last Updated'].astype('datetime64[ns]')"
   ]
  },
  {
   "cell_type": "code",
   "execution_count": 20,
   "id": "64f06bcd",
   "metadata": {},
   "outputs": [],
   "source": [
    "# Sorting records with respect to the parameters provided in the list below...\n",
    "# ...so that we can keep the first record on the basis of applied filters\n",
    "\n",
    "apps.sort_values(by = ['App', 'Reviews', 'Installs', 'Last Updated' ], ascending = False, inplace = True)"
   ]
  },
  {
   "cell_type": "code",
   "execution_count": 21,
   "id": "91b4634c",
   "metadata": {},
   "outputs": [],
   "source": [
    "# Dropping the duplicate App names without dropping the first record\n",
    "\n",
    "apps.drop_duplicates('App', keep = 'first', inplace = True)"
   ]
  },
  {
   "cell_type": "code",
   "execution_count": 22,
   "id": "12d5f499",
   "metadata": {},
   "outputs": [
    {
     "data": {
      "text/plain": [
       "0"
      ]
     },
     "execution_count": 22,
     "metadata": {},
     "output_type": "execute_result"
    }
   ],
   "source": [
    "# Cross checking whether the duplicate app names have been removed or not.\n",
    "\n",
    "apps['App'].duplicated().sum()"
   ]
  },
  {
   "cell_type": "markdown",
   "id": "880eac0a",
   "metadata": {},
   "source": [
    "**Category Column**"
   ]
  },
  {
   "cell_type": "code",
   "execution_count": 23,
   "id": "5f3e1d13",
   "metadata": {},
   "outputs": [
    {
     "data": {
      "text/plain": [
       "array(['SHOPPING', 'MAPS_AND_NAVIGATION', 'NEWS_AND_MAGAZINES',\n",
       "       'FOOD_AND_DRINK', 'GAME', 'FAMILY', 'COMMUNICATION',\n",
       "       'PERSONALIZATION', 'TOOLS', 'SPORTS', 'HOUSE_AND_HOME',\n",
       "       'AUTO_AND_VEHICLES', 'DATING', 'LIFESTYLE', 'BUSINESS',\n",
       "       'PARENTING', 'HEALTH_AND_FITNESS', 'MEDICAL', 'FINANCE',\n",
       "       'ENTERTAINMENT', 'SOCIAL', 'TRAVEL_AND_LOCAL', 'PHOTOGRAPHY',\n",
       "       'VIDEO_PLAYERS', 'LIBRARIES_AND_DEMO', 'BOOKS_AND_REFERENCE',\n",
       "       'WEATHER', 'PRODUCTIVITY', 'EVENTS', 'ART_AND_DESIGN', 'BEAUTY',\n",
       "       'COMICS', 'EDUCATION', '1.9'], dtype=object)"
      ]
     },
     "execution_count": 23,
     "metadata": {},
     "output_type": "execute_result"
    }
   ],
   "source": [
    "# inspecting category column\n",
    "\n",
    "apps['Category'].unique()"
   ]
  },
  {
   "cell_type": "markdown",
   "id": "6afd9d67",
   "metadata": {},
   "source": [
    "###### Observation:\n",
    "\n",
    "Looking at the above output, we can see that '1.9' is not of categorical datatype. So let's inspect into it. "
   ]
  },
  {
   "cell_type": "code",
   "execution_count": 24,
   "id": "edce3fcd",
   "metadata": {},
   "outputs": [
    {
     "data": {
      "text/html": [
       "<div>\n",
       "<style scoped>\n",
       "    .dataframe tbody tr th:only-of-type {\n",
       "        vertical-align: middle;\n",
       "    }\n",
       "\n",
       "    .dataframe tbody tr th {\n",
       "        vertical-align: top;\n",
       "    }\n",
       "\n",
       "    .dataframe thead th {\n",
       "        text-align: right;\n",
       "    }\n",
       "</style>\n",
       "<table border=\"1\" class=\"dataframe\">\n",
       "  <thead>\n",
       "    <tr style=\"text-align: right;\">\n",
       "      <th></th>\n",
       "      <th>App</th>\n",
       "      <th>Category</th>\n",
       "      <th>Rating</th>\n",
       "      <th>Reviews</th>\n",
       "      <th>Size</th>\n",
       "      <th>Installs</th>\n",
       "      <th>Type</th>\n",
       "      <th>Price</th>\n",
       "      <th>Content Rating</th>\n",
       "      <th>Genres</th>\n",
       "      <th>Last Updated</th>\n",
       "      <th>Current Ver</th>\n",
       "      <th>Android Ver</th>\n",
       "    </tr>\n",
       "  </thead>\n",
       "  <tbody>\n",
       "    <tr>\n",
       "      <th>10472</th>\n",
       "      <td>Life Made Wi-Fi Touchscreen Photo Frame</td>\n",
       "      <td>1.9</td>\n",
       "      <td>19.0</td>\n",
       "      <td>NaN</td>\n",
       "      <td>1,000+</td>\n",
       "      <td>NaN</td>\n",
       "      <td>0</td>\n",
       "      <td>NaN</td>\n",
       "      <td>NaN</td>\n",
       "      <td>February 11, 2018</td>\n",
       "      <td>NaT</td>\n",
       "      <td>4.0 and up</td>\n",
       "      <td>NaN</td>\n",
       "    </tr>\n",
       "  </tbody>\n",
       "</table>\n",
       "</div>"
      ],
      "text/plain": [
       "                                           App Category  Rating  Reviews  \\\n",
       "10472  Life Made Wi-Fi Touchscreen Photo Frame      1.9    19.0      NaN   \n",
       "\n",
       "         Size  Installs Type  Price Content Rating             Genres  \\\n",
       "10472  1,000+       NaN    0    NaN            NaN  February 11, 2018   \n",
       "\n",
       "      Last Updated Current Ver Android Ver  \n",
       "10472          NaT  4.0 and up         NaN  "
      ]
     },
     "execution_count": 24,
     "metadata": {},
     "output_type": "execute_result"
    }
   ],
   "source": [
    "# Looking at the record with category as '1.9'\n",
    "\n",
    "apps[apps['Category']=='1.9']"
   ]
  },
  {
   "cell_type": "markdown",
   "id": "dd9b8008",
   "metadata": {},
   "source": [
    "###### Observation:\n",
    "\n",
    "We can see that the data starting from the category column till the Android Version has data from the immediate column to its right. But even if we try to format the data by shifting the values, most of the columns would have NaN values. Hence dropping the entire row would be a better option."
   ]
  },
  {
   "cell_type": "code",
   "execution_count": 25,
   "id": "2bc59bc0",
   "metadata": {},
   "outputs": [],
   "source": [
    "# dropping the record\n",
    "\n",
    "apps.drop(10472,inplace=True)"
   ]
  },
  {
   "cell_type": "code",
   "execution_count": 26,
   "id": "24e20ab7",
   "metadata": {},
   "outputs": [
    {
     "data": {
      "text/plain": [
       "array(['SHOPPING', 'MAPS_AND_NAVIGATION', 'NEWS_AND_MAGAZINES',\n",
       "       'FOOD_AND_DRINK', 'GAME', 'FAMILY', 'COMMUNICATION',\n",
       "       'PERSONALIZATION', 'TOOLS', 'SPORTS', 'HOUSE_AND_HOME',\n",
       "       'AUTO_AND_VEHICLES', 'DATING', 'LIFESTYLE', 'BUSINESS',\n",
       "       'PARENTING', 'HEALTH_AND_FITNESS', 'MEDICAL', 'FINANCE',\n",
       "       'ENTERTAINMENT', 'SOCIAL', 'TRAVEL_AND_LOCAL', 'PHOTOGRAPHY',\n",
       "       'VIDEO_PLAYERS', 'LIBRARIES_AND_DEMO', 'BOOKS_AND_REFERENCE',\n",
       "       'WEATHER', 'PRODUCTIVITY', 'EVENTS', 'ART_AND_DESIGN', 'BEAUTY',\n",
       "       'COMICS', 'EDUCATION'], dtype=object)"
      ]
     },
     "execution_count": 26,
     "metadata": {},
     "output_type": "execute_result"
    }
   ],
   "source": [
    "# Cross checking for unique values in Category column\n",
    "\n",
    "apps['Category'].unique()"
   ]
  },
  {
   "cell_type": "code",
   "execution_count": 27,
   "id": "09473b61",
   "metadata": {},
   "outputs": [
    {
     "data": {
      "text/plain": [
       "0"
      ]
     },
     "execution_count": 27,
     "metadata": {},
     "output_type": "execute_result"
    }
   ],
   "source": [
    "# Checking the number of null values present in Category Column\n",
    "\n",
    "apps['Category'].isnull().sum()"
   ]
  },
  {
   "cell_type": "markdown",
   "id": "d4456752",
   "metadata": {},
   "source": [
    "**Rating column**"
   ]
  },
  {
   "cell_type": "code",
   "execution_count": 28,
   "id": "66c5e409",
   "metadata": {},
   "outputs": [
    {
     "data": {
      "text/plain": [
       "1458"
      ]
     },
     "execution_count": 28,
     "metadata": {},
     "output_type": "execute_result"
    }
   ],
   "source": [
    "# Checking for the number of null values in the Rating column\n",
    "\n",
    "apps['Rating'].isnull().sum()"
   ]
  },
  {
   "cell_type": "code",
   "execution_count": 29,
   "id": "959a7930",
   "metadata": {},
   "outputs": [
    {
     "data": {
      "text/plain": [
       "['Rating', 'Type', 'Current Ver', 'Android Ver']"
      ]
     },
     "execution_count": 29,
     "metadata": {},
     "output_type": "execute_result"
    }
   ],
   "source": [
    "# Capturing the columns with null values in a list\n",
    "\n",
    "features_with_nan=[i for i in apps.columns if apps[i].isnull().sum()>=1]\n",
    "features_with_nan"
   ]
  },
  {
   "cell_type": "code",
   "execution_count": 30,
   "id": "0a6cc143",
   "metadata": {},
   "outputs": [
    {
     "name": "stdout",
     "output_type": "stream",
     "text": [
      "Rating  has 15.13 % missing values\n",
      "Type  has 0.01 % missing values\n",
      "Current Ver  has 0.08 % missing values\n",
      "Android Ver  has 0.02 % missing values\n"
     ]
    }
   ],
   "source": [
    "# Checking the percentage of null values present in each columns with null values\n",
    "\n",
    "for feature in features_with_nan:\n",
    "    print(feature,\" has\", np.round(apps[feature].isnull().mean()*100, 2), '% missing values')"
   ]
  },
  {
   "cell_type": "markdown",
   "id": "df92c4f1",
   "metadata": {},
   "source": [
    "Here we can see that Rating has 15.13 % of its total data as null. 15.13% is a significant number and such a huge number of missing values can influence our analysis greatly as we keep progressing. Therefore, either we should impute the values or we should drop them.\n",
    "\n",
    "But we can not directly conclude neither to drop the null values nor to impute ithem. \n",
    "\n",
    "In real world scenarios, even big companies struggle to gather enough amount of data for analysis purposes. In our case, we may lose some crucial informations from our dataset. So what should we do? Should we drop or not? \n",
    "\n",
    "In real world screnarios, the distributions of the datset are generally skewed. But if we find too much skewness in our dataset, then our statistical models won’t work effectively.\n",
    "\n",
    "In skewed data, the tail region (that can be seen in the distribution diagram) may act as an outlier for our statistical model, and we know that outliers adversely affect a model’s performance, especially regression-based models. While there are statistical models that are robust enough to handle outliers like tree-based models, we’ll be limited in what other models we can try. So what should we do? In this case, we’ll need to transform the skewed data so that it becomes a Gaussian (or normal) distribution. Removing outliers and normalizing our data will allow us to experiment with more statistical models.\n",
    "\n",
    "Overall, its a trial and error process. It's important to realize that data normalization isn't always necessary. In fact, sometimes it makes sense to do the opposite and add redundancy to a database. We should try out both conditions and check if our statistical model is performing better in first condition or in second condition. And finally, we should opt the process with a better performance over the another."
   ]
  },
  {
   "cell_type": "code",
   "execution_count": 31,
   "id": "ea396dc1",
   "metadata": {},
   "outputs": [],
   "source": [
    "# Imputing Nan values with 0 \n",
    "\n",
    "# (however dataset distribution is better if we repalce by mean) - cross_verified through sns.distplot\n",
    "\n",
    "apps['Rating'] = apps['Rating'].fillna(0)"
   ]
  },
  {
   "cell_type": "code",
   "execution_count": 32,
   "id": "32902945",
   "metadata": {},
   "outputs": [
    {
     "data": {
      "text/plain": [
       "array([3.9, 4.2, 4.9, 4.6, 3.8, 0. , 2.9, 4.4, 4.5, 4. , 3.2, 3.6, 4.1,\n",
       "       4.3, 3.7, 4.7, 3.5, 5. , 4.8, 3.1, 2.8, 1.9, 3.4, 3.3, 2.7, 1.8,\n",
       "       2.4, 2.3, 2.5, 3. , 2. , 2.6, 1. , 2.2, 2.1, 1.4, 1.6, 1.5, 1.2,\n",
       "       1.7])"
      ]
     },
     "execution_count": 32,
     "metadata": {},
     "output_type": "execute_result"
    }
   ],
   "source": [
    "# Checking the number of unique values present in Rating column\n",
    "\n",
    "apps['Rating'].unique()"
   ]
  },
  {
   "cell_type": "markdown",
   "id": "ffe13a44",
   "metadata": {},
   "source": [
    "**Reviews column**"
   ]
  },
  {
   "cell_type": "code",
   "execution_count": 33,
   "id": "d22dbbc0",
   "metadata": {},
   "outputs": [
    {
     "data": {
      "text/plain": [
       "dtype('float64')"
      ]
     },
     "execution_count": 33,
     "metadata": {},
     "output_type": "execute_result"
    }
   ],
   "source": [
    "# Checking the datatype of Reviews Column\n",
    "\n",
    "apps['Reviews'].dtypes"
   ]
  },
  {
   "cell_type": "code",
   "execution_count": 34,
   "id": "8020ba69",
   "metadata": {},
   "outputs": [],
   "source": [
    "# Converting the datatype into int32\n",
    "\n",
    "apps['Reviews'] = apps['Reviews'].astype(\"int32\")"
   ]
  },
  {
   "cell_type": "code",
   "execution_count": 35,
   "id": "f1e03413",
   "metadata": {},
   "outputs": [
    {
     "data": {
      "text/plain": [
       "dtype('int32')"
      ]
     },
     "execution_count": 35,
     "metadata": {},
     "output_type": "execute_result"
    }
   ],
   "source": [
    "# Cross checking if the datatype is changed or not:\n",
    "\n",
    "apps['Reviews'].dtypes"
   ]
  },
  {
   "cell_type": "code",
   "execution_count": 36,
   "id": "8d56b32e",
   "metadata": {},
   "outputs": [
    {
     "data": {
      "text/plain": [
       "array([  117, 12572,    58, ...,  2490,  2019, 40467])"
      ]
     },
     "execution_count": 36,
     "metadata": {},
     "output_type": "execute_result"
    }
   ],
   "source": [
    "# Checking the unique values\n",
    "\n",
    "apps['Reviews'].unique()"
   ]
  },
  {
   "cell_type": "code",
   "execution_count": 37,
   "id": "beb9608b",
   "metadata": {},
   "outputs": [
    {
     "data": {
      "text/plain": [
       "count    9.638000e+03\n",
       "mean     2.167621e+05\n",
       "std      1.832769e+06\n",
       "min      0.000000e+00\n",
       "25%      2.500000e+01\n",
       "50%      9.785000e+02\n",
       "75%      2.953125e+04\n",
       "max      7.815831e+07\n",
       "Name: Reviews, dtype: float64"
      ]
     },
     "execution_count": 37,
     "metadata": {},
     "output_type": "execute_result"
    }
   ],
   "source": [
    "# Having a glimpse on Reviews column\n",
    "\n",
    "apps['Reviews'].describe()"
   ]
  },
  {
   "cell_type": "markdown",
   "id": "c80249f7",
   "metadata": {},
   "source": [
    "**Size column**"
   ]
  },
  {
   "cell_type": "code",
   "execution_count": 38,
   "id": "532e3d39",
   "metadata": {},
   "outputs": [
    {
     "data": {
      "text/plain": [
       "array(['9.8M', '24M', '3.8M', '1.7M', '36M', '549k', '13M', '11M', '6.7M',\n",
       "       '19M', '118k', '72k', '2.5M', '5.6M', '21M', '52M', '25M',\n",
       "       'Varies with device', '5.9M', '37M', '4.6M', '8.2M', '20M', '62M',\n",
       "       '23M', '94M', '66M', '50M', '41M', '45M', '75M', '96M', '12M',\n",
       "       '38M', '32M', '3.5M', '15M', '34M', '78M', '544k', '84M', '7.2M',\n",
       "       '7.1M', '18M', '14M', '6.1M', '33M', '61M', '9.0M', '3.0M', '72M',\n",
       "       '3.6M', '5.7M', '67M', '98M', '59M', '47M', '7.7M', '27M', '17M',\n",
       "       '7.5M', '5.3M', '69M', '85M', '2.4M', '83M', '86M', '44M', '5.1M',\n",
       "       '26M', '6.3M', '4.7M', '22M', '16M', '1.2M', '3.2M', '6.0M', '99M',\n",
       "       '3.7M', '404k', '8.7M', '95M', '46M', '6.4M', '64M', '4.4M',\n",
       "       '8.6M', '2.0M', '1.9M', '8.5M', '77M', '28M', '4.9M', '51M', '55M',\n",
       "       '3.1M', '49M', '81M', '76M', '42M', '2.6M', '87M', '1020k', '1.5M',\n",
       "       '30M', '53M', '29M', '5.0M', '3.3M', '4.1M', '1.0M', '56M', '887k',\n",
       "       '6.8M', '1.3M', '10.0M', '41k', '1.8M', '903k', '61k', '29k',\n",
       "       '26k', '1.4M', '5.8M', '253k', '4.2M', '9.9M', '73M', '6.6M',\n",
       "       '57M', '7.8M', '9.4M', '10M', '6.5M', '656k', '9.2M', '9.1M',\n",
       "       '58M', '9.7M', '4.3M', '2.3M', '4.5M', '39M', '8.8M', '6.9M',\n",
       "       '2.1M', '2.2M', '9.3M', '5.5M', '4.8M', '2.9M', '89M', '1.1M',\n",
       "       '8.9M', '71M', '2.7M', '3.4M', '68M', '40M', '306k', '601k',\n",
       "       '7.9M', '43M', '31M', '4.0M', '5.4M', '1.6M', '8.0M', '100M',\n",
       "       '3.9M', '642k', '8.1M', '35M', '9.5M', '7.3M', '7.0M', '9.6M',\n",
       "       '5.2M', '2.8M', '7.6M', '8.3M', '80M', '63M', '237k', '196k',\n",
       "       '91M', '569k', '97M', '60M', '8.4M', '82k', '90M', '48M', '79M',\n",
       "       '82M', '92M', '201k', '948k', '351k', '6.2M', '54M', '318k',\n",
       "       '551k', '65M', '811k', '801k', '70M', '716k', '980k', '957k',\n",
       "       '121k', '872k', '7.4M', '713k', '881k', '88M', '705k', '323k',\n",
       "       '592k', '525k', '688k', '93M', '176k', '93k', '756k', '314k',\n",
       "       '809k', '500k', '226k', '940k', '58k', '18k', '313k', '383k',\n",
       "       '420k', '526k', '899k', '556k', '23k', '234k', '375k', '190k',\n",
       "       '847k', '378k', '626k', '79k', '920k', '754k', '562k', '485k',\n",
       "       '778k', '696k', '74M', '916k', '930k', '898k', '14k', '334k',\n",
       "       '288k', '540k', '20k', '309k', '643k', '743k', '350k', '655k',\n",
       "       '11k', '27k', '585k', '904k', '600k', '772k', '658k', '840k',\n",
       "       '172k', '779k', '55k', '953k', '837k', '629k', '70k', '411k',\n",
       "       '246k', '704k', '965k', '676k', '597k', '257k', '663k', '251k',\n",
       "       '400k', '695k', '376k', '853k', '582k', '157k', '885k', '67k',\n",
       "       '44k', '552k', '364k', '861k', '209k', '470k', '785k', '954k',\n",
       "       '720k', '992k', '975k', '73k', '241k', '193k', '473k', '51k',\n",
       "       '192k', '228k', '865k', '17k', '39k', '970k', '879k', '8.5k',\n",
       "       '161k', '387k', '860k', '33k', '892k', '154k', '518k', '523k',\n",
       "       '48k', '862k', '322k', '24k', '270k', '280k', '981k', '874k',\n",
       "       '921k', '329k', '266k', '976k', '54k', '608k', '994k', '636k',\n",
       "       '939k', '467k', '28k', '775k', '245k', '458k', '74k', '857k',\n",
       "       '34k', '818k', '108k', '221k', '454k', '259k', '942k', '749k',\n",
       "       '780k', '269k', '498k', '961k', '516k', '206k', '97k', '986k',\n",
       "       '787k', '164k', '609k', '951k', '784k', '122k', '173k', '353k',\n",
       "       '499k', '153k', '116k', '914k', '89k', '619k', '103k', '514k',\n",
       "       '913k', '50k', '554k', '691k', '511k', '240k', '208k', '373k',\n",
       "       '437k', '598k', '222k', '683k', '191k', '186k', '319k', '842k',\n",
       "       '647k', '613k', '506k', '782k', '459k', '460k', '721k', '417k',\n",
       "       '335k', '429k', '412k', '430k', '812k', '816k', '496k', '200k',\n",
       "       '728k', '478k', '442k', '414k', '421k', '963k', '175k', '25k',\n",
       "       '210k', '308k', '717k', '982k', '746k', '444k', '238k', '624k',\n",
       "       '232k', '219k', '714k', '292k', '283k', '545k', '169k', '45k',\n",
       "       '475k', '220k', '81k', '924k', '902k', '317k', '78k', '143k',\n",
       "       '144k', '141k', '160k', '170k', '293k', '730k', '91k', '239k',\n",
       "       '243k', '371k', '203k'], dtype=object)"
      ]
     },
     "execution_count": 38,
     "metadata": {},
     "output_type": "execute_result"
    }
   ],
   "source": [
    "# Checking the unique values:\n",
    "\n",
    "apps['Size'].unique()"
   ]
  },
  {
   "cell_type": "markdown",
   "id": "27d3aa5b",
   "metadata": {},
   "source": [
    "###### Observation:\n",
    "\n",
    "1. We can see a lot of values ending with unwanted characters. So we need to recognise and remove them. \n",
    "\n",
    "2. We can see that the size of the app is given in MBs and KBs in terms of M and K respectively.Hence we need to standardize the data by converting MB into KB.\n",
    "\n",
    "3. There are many values as \"Varies with device\". So we need to replace them by zero in order to convert the whole Size column into numerical datatype (since the column doesn't already have 0 as a value)."
   ]
  },
  {
   "cell_type": "code",
   "execution_count": 39,
   "id": "8d05ca4d",
   "metadata": {},
   "outputs": [
    {
     "data": {
      "text/plain": [
       "['M', 'k', 'e']"
      ]
     },
     "execution_count": 39,
     "metadata": {},
     "output_type": "execute_result"
    }
   ],
   "source": [
    "# Capturing the last character from each values into a list\n",
    "\n",
    "l=[]\n",
    "for i in apps[\"Size\"][:]:\n",
    "    if i[-1] not in l:\n",
    "        l.append(i[-1])\n",
    "l"
   ]
  },
  {
   "cell_type": "code",
   "execution_count": 40,
   "id": "1518d759",
   "metadata": {},
   "outputs": [
    {
     "data": {
      "text/plain": [
       "Int64Index([ 8133,  3859,  9828,  9819,  5844,  4653,  4453,  6648,  4288,\n",
       "             4456,\n",
       "            ...\n",
       "             8219,  7738,  8483,  1393, 10252,  5940,  4636,  8532,   324,\n",
       "             8884],\n",
       "           dtype='int64', length=8098)"
      ]
     },
     "execution_count": 40,
     "metadata": {},
     "output_type": "execute_result"
    }
   ],
   "source": [
    "# Storing the indexes of the values ending with 'M' in store1.\n",
    "\n",
    "store1 = apps[apps[\"Size\"].str[-1]==\"M\"].index\n",
    "store1"
   ]
  },
  {
   "cell_type": "code",
   "execution_count": 41,
   "id": "5aa52755",
   "metadata": {},
   "outputs": [],
   "source": [
    "# Removing the last character from the size values captured in stored1\n",
    "\n",
    "for i in store1:\n",
    "    apps[\"Size\"].loc[i] = apps[\"Size\"].loc[i][:-1]"
   ]
  },
  {
   "cell_type": "code",
   "execution_count": 42,
   "id": "38bf63c4",
   "metadata": {},
   "outputs": [
    {
     "data": {
      "text/plain": [
       "array(['9.8', '24', '3.8', '1.7', '36', '549k', '13', '11', '6.7', '19',\n",
       "       '118k', '72k', '2.5', '5.6', '21', '52', '25',\n",
       "       'Varies with device', '5.9', '37', '4.6', '8.2', '20', '62', '23',\n",
       "       '94', '66', '50', '41', '45', '75', '96', '12', '38', '32', '3.5',\n",
       "       '15', '34', '78', '544k', '84', '7.2', '7.1', '18', '14', '6.1',\n",
       "       '33', '61', '9.0', '3.0', '72', '3.6', '5.7', '67', '98', '59',\n",
       "       '47', '7.7', '27', '17', '7.5', '5.3', '69', '85', '2.4', '83',\n",
       "       '86', '44', '5.1', '26', '6.3', '4.7', '22', '16', '1.2', '3.2',\n",
       "       '6.0', '99', '3.7', '404k', '8.7', '95', '46', '6.4', '64', '4.4',\n",
       "       '8.6', '2.0', '1.9', '8.5', '77', '28', '4.9', '51', '55', '3.1',\n",
       "       '49', '81', '76', '42', '2.6', '87', '1020k', '1.5', '30', '53',\n",
       "       '29', '5.0', '3.3', '4.1', '1.0', '56', '887k', '6.8', '1.3',\n",
       "       '10.0', '41k', '1.8', '903k', '61k', '29k', '26k', '1.4', '5.8',\n",
       "       '253k', '4.2', '9.9', '73', '6.6', '57', '7.8', '9.4', '10', '6.5',\n",
       "       '656k', '9.2', '9.1', '58', '9.7', '4.3', '2.3', '4.5', '39',\n",
       "       '8.8', '6.9', '2.1', '2.2', '9.3', '5.5', '4.8', '2.9', '89',\n",
       "       '1.1', '8.9', '71', '2.7', '3.4', '68', '40', '306k', '601k',\n",
       "       '7.9', '43', '31', '4.0', '5.4', '1.6', '8.0', '100', '3.9',\n",
       "       '642k', '8.1', '35', '9.5', '7.3', '7.0', '9.6', '5.2', '2.8',\n",
       "       '7.6', '8.3', '80', '63', '237k', '196k', '91', '569k', '97', '60',\n",
       "       '8.4', '82k', '90', '48', '79', '82', '92', '201k', '948k', '351k',\n",
       "       '6.2', '54', '318k', '551k', '65', '811k', '801k', '70', '716k',\n",
       "       '980k', '957k', '121k', '872k', '7.4', '713k', '881k', '88',\n",
       "       '705k', '323k', '592k', '525k', '688k', '93', '176k', '93k',\n",
       "       '756k', '314k', '809k', '500k', '226k', '940k', '58k', '18k',\n",
       "       '313k', '383k', '420k', '526k', '899k', '556k', '23k', '234k',\n",
       "       '375k', '190k', '847k', '378k', '626k', '79k', '920k', '754k',\n",
       "       '562k', '485k', '778k', '696k', '74', '916k', '930k', '898k',\n",
       "       '14k', '334k', '288k', '540k', '20k', '309k', '643k', '743k',\n",
       "       '350k', '655k', '11k', '27k', '585k', '904k', '600k', '772k',\n",
       "       '658k', '840k', '172k', '779k', '55k', '953k', '837k', '629k',\n",
       "       '70k', '411k', '246k', '704k', '965k', '676k', '597k', '257k',\n",
       "       '663k', '251k', '400k', '695k', '376k', '853k', '582k', '157k',\n",
       "       '885k', '67k', '44k', '552k', '364k', '861k', '209k', '470k',\n",
       "       '785k', '954k', '720k', '992k', '975k', '73k', '241k', '193k',\n",
       "       '473k', '51k', '192k', '228k', '865k', '17k', '39k', '970k',\n",
       "       '879k', '8.5k', '161k', '387k', '860k', '33k', '892k', '154k',\n",
       "       '518k', '523k', '48k', '862k', '322k', '24k', '270k', '280k',\n",
       "       '981k', '874k', '921k', '329k', '266k', '976k', '54k', '608k',\n",
       "       '994k', '636k', '939k', '467k', '28k', '775k', '245k', '458k',\n",
       "       '74k', '857k', '34k', '818k', '108k', '221k', '454k', '259k',\n",
       "       '942k', '749k', '780k', '269k', '498k', '961k', '516k', '206k',\n",
       "       '97k', '986k', '787k', '164k', '609k', '951k', '784k', '122k',\n",
       "       '173k', '353k', '499k', '153k', '116k', '914k', '89k', '619k',\n",
       "       '103k', '514k', '913k', '50k', '554k', '691k', '511k', '240k',\n",
       "       '208k', '373k', '437k', '598k', '222k', '683k', '191k', '186k',\n",
       "       '319k', '842k', '647k', '613k', '506k', '782k', '459k', '460k',\n",
       "       '721k', '417k', '335k', '429k', '412k', '430k', '812k', '816k',\n",
       "       '496k', '200k', '728k', '478k', '442k', '414k', '421k', '963k',\n",
       "       '175k', '25k', '210k', '308k', '717k', '982k', '746k', '444k',\n",
       "       '238k', '624k', '232k', '219k', '714k', '292k', '283k', '545k',\n",
       "       '169k', '45k', '475k', '220k', '81k', '924k', '902k', '317k',\n",
       "       '78k', '143k', '144k', '141k', '160k', '170k', '293k', '730k',\n",
       "       '91k', '239k', '243k', '371k', '203k'], dtype=object)"
      ]
     },
     "execution_count": 42,
     "metadata": {},
     "output_type": "execute_result"
    }
   ],
   "source": [
    "# Cross checking if we have successfully removed 'M':\n",
    "\n",
    "apps['Size'].unique()"
   ]
  },
  {
   "cell_type": "code",
   "execution_count": 43,
   "id": "10b42b0a",
   "metadata": {},
   "outputs": [
    {
     "data": {
      "text/plain": [
       "Int64Index([ 5832,  4761, 10455,  3346, 10471, 10798,  6602,  1542,  8946,\n",
       "             5451,\n",
       "            ...\n",
       "            10041, 10051,  4977,  4973,  4953,  4970,  4871,  6671,  4897,\n",
       "             4541],\n",
       "           dtype='int64', length=314)"
      ]
     },
     "execution_count": 43,
     "metadata": {},
     "output_type": "execute_result"
    }
   ],
   "source": [
    "# Storing the indexes of the values ending with 'k' in store1.\n",
    "\n",
    "store2 = apps[apps[\"Size\"].str[-1] == \"k\"].index\n",
    "store2"
   ]
  },
  {
   "cell_type": "code",
   "execution_count": 44,
   "id": "4d92b4a4",
   "metadata": {},
   "outputs": [],
   "source": [
    "# Removing the last character from the size values captured in stored2...\n",
    "# ...and simultaneously converting values from KB to MB\n",
    "\n",
    "\n",
    "for i in store2:\n",
    "    apps[\"Size\"].loc[i] = round(float(apps[\"Size\"].loc[i][:-1])/1024,2)"
   ]
  },
  {
   "cell_type": "code",
   "execution_count": 45,
   "id": "852ecdf2",
   "metadata": {},
   "outputs": [
    {
     "data": {
      "text/plain": [
       "array(['9.8', '24', '3.8', '1.7', '36', 0.54, '13', '11', '6.7', '19',\n",
       "       0.12, 0.07, '2.5', '5.6', '21', '52', '25', 'Varies with device',\n",
       "       '5.9', '37', '4.6', '8.2', '20', '62', '23', '94', '66', '50',\n",
       "       '41', '45', '75', '96', '12', '38', '32', '3.5', '15', '34', '78',\n",
       "       0.53, '84', '7.2', '7.1', '18', '14', '6.1', '33', '61', '9.0',\n",
       "       '3.0', '72', '3.6', '5.7', '67', '98', '59', '47', '7.7', '27',\n",
       "       '17', '7.5', '5.3', '69', '85', '2.4', '83', '86', '44', '5.1',\n",
       "       '26', '6.3', '4.7', '22', '16', '1.2', '3.2', '6.0', '99', '3.7',\n",
       "       0.39, '8.7', '95', '46', '6.4', '64', '4.4', '8.6', '2.0', '1.9',\n",
       "       '8.5', '77', '28', '4.9', '51', '55', '3.1', '49', '81', '76',\n",
       "       '42', '2.6', '87', 1.0, '1.5', '30', '53', '29', '5.0', '3.3',\n",
       "       '4.1', '1.0', '56', 0.87, '6.8', '1.3', '10.0', 0.04, '1.8', 0.88,\n",
       "       0.06, 0.03, '1.4', '5.8', 0.25, '4.2', '9.9', '73', '6.6', '57',\n",
       "       '7.8', '9.4', '10', '6.5', 0.64, '9.2', '9.1', '58', '9.7', '4.3',\n",
       "       '2.3', '4.5', '39', '8.8', '6.9', '2.1', '2.2', '9.3', '5.5',\n",
       "       '4.8', '2.9', '89', '1.1', '8.9', '71', '2.7', '3.4', '68', '40',\n",
       "       0.3, 0.59, '7.9', '43', '31', '4.0', '5.4', '1.6', '8.0', '100',\n",
       "       '3.9', 0.63, '8.1', '35', '9.5', '7.3', '7.0', '9.6', '5.2', '2.8',\n",
       "       '7.6', '8.3', '80', '63', 0.23, 0.19, '91', 0.56, '97', '60',\n",
       "       '8.4', 0.08, '90', '48', '79', '82', '92', 0.2, 0.93, 0.34, '6.2',\n",
       "       '54', 0.31, '65', 0.79, 0.78, '70', 0.7, 0.96, 0.85, '7.4', 0.86,\n",
       "       '88', 0.69, 0.32, 0.58, 0.51, 0.67, '93', 0.17, 0.09, 0.74, 0.49,\n",
       "       0.22, 0.92, 0.02, 0.37, 0.41, 0.83, 0.61, 0.9, 0.55, 0.47, 0.76,\n",
       "       0.68, '74', 0.89, 0.91, 0.01, 0.33, 0.28, 0.73, 0.57, 0.75, 0.82,\n",
       "       0.05, 0.4, 0.24, 0.94, 0.66, 0.65, 0.15, 0.36, 0.84, 0.46, 0.77,\n",
       "       0.97, 0.95, 0.16, 0.38, 0.26, 0.27, 0.62, 0.45, 0.8, 0.11, 0.44,\n",
       "       0.5, 0.6, 0.1, 0.43, 0.18, 0.42, 0.48, 0.71, 0.21, 0.29, 0.14],\n",
       "      dtype=object)"
      ]
     },
     "execution_count": 45,
     "metadata": {},
     "output_type": "execute_result"
    }
   ],
   "source": [
    "# Cross checking if we have successfully removed 'k':\n",
    "\n",
    "\n",
    "apps['Size'].unique()"
   ]
  },
  {
   "cell_type": "code",
   "execution_count": 46,
   "id": "158deb6c",
   "metadata": {},
   "outputs": [
    {
     "data": {
      "text/plain": [
       "18"
      ]
     },
     "execution_count": 46,
     "metadata": {},
     "output_type": "execute_result"
    }
   ],
   "source": [
    "# Capturing string length for 'Varies with device' in a variable:\n",
    "\n",
    "str_length = len(\"Varies with device\")\n",
    "str_length"
   ]
  },
  {
   "cell_type": "code",
   "execution_count": 47,
   "id": "33ab0794",
   "metadata": {},
   "outputs": [
    {
     "data": {
      "text/plain": [
       "Int64Index([2758, 6245, 7077, 1641,   89, 1370, 1914, 1255, 3256, 3253,\n",
       "            ...\n",
       "            1437, 4863, 7006, 4568, 1267, 4875, 3151, 3448, 7330, 7338],\n",
       "           dtype='int64', length=1226)"
      ]
     },
     "execution_count": 47,
     "metadata": {},
     "output_type": "execute_result"
    }
   ],
   "source": [
    "# Storing the indexes of the values having \"Varies with device\" in the variable store3\n",
    "\n",
    "store3 = apps[apps[\"Size\"].str[-str_length:] == \"Varies with device\"].index\n",
    "store3"
   ]
  },
  {
   "cell_type": "code",
   "execution_count": 48,
   "id": "ef056d12",
   "metadata": {},
   "outputs": [],
   "source": [
    "# Replacing \"Varies with device\" with 0\n",
    "\n",
    "for i in store3:\n",
    "    apps[\"Size\"].loc[i] = 0"
   ]
  },
  {
   "cell_type": "code",
   "execution_count": 49,
   "id": "00568469",
   "metadata": {},
   "outputs": [
    {
     "data": {
      "text/plain": [
       "array(['9.8', '24', '3.8', '1.7', '36', 0.54, '13', '11', '6.7', '19',\n",
       "       0.12, 0.07, '2.5', '5.6', '21', '52', '25', 0, '5.9', '37', '4.6',\n",
       "       '8.2', '20', '62', '23', '94', '66', '50', '41', '45', '75', '96',\n",
       "       '12', '38', '32', '3.5', '15', '34', '78', 0.53, '84', '7.2',\n",
       "       '7.1', '18', '14', '6.1', '33', '61', '9.0', '3.0', '72', '3.6',\n",
       "       '5.7', '67', '98', '59', '47', '7.7', '27', '17', '7.5', '5.3',\n",
       "       '69', '85', '2.4', '83', '86', '44', '5.1', '26', '6.3', '4.7',\n",
       "       '22', '16', '1.2', '3.2', '6.0', '99', '3.7', 0.39, '8.7', '95',\n",
       "       '46', '6.4', '64', '4.4', '8.6', '2.0', '1.9', '8.5', '77', '28',\n",
       "       '4.9', '51', '55', '3.1', '49', '81', '76', '42', '2.6', '87', 1.0,\n",
       "       '1.5', '30', '53', '29', '5.0', '3.3', '4.1', '1.0', '56', 0.87,\n",
       "       '6.8', '1.3', '10.0', 0.04, '1.8', 0.88, 0.06, 0.03, '1.4', '5.8',\n",
       "       0.25, '4.2', '9.9', '73', '6.6', '57', '7.8', '9.4', '10', '6.5',\n",
       "       0.64, '9.2', '9.1', '58', '9.7', '4.3', '2.3', '4.5', '39', '8.8',\n",
       "       '6.9', '2.1', '2.2', '9.3', '5.5', '4.8', '2.9', '89', '1.1',\n",
       "       '8.9', '71', '2.7', '3.4', '68', '40', 0.3, 0.59, '7.9', '43',\n",
       "       '31', '4.0', '5.4', '1.6', '8.0', '100', '3.9', 0.63, '8.1', '35',\n",
       "       '9.5', '7.3', '7.0', '9.6', '5.2', '2.8', '7.6', '8.3', '80', '63',\n",
       "       0.23, 0.19, '91', 0.56, '97', '60', '8.4', 0.08, '90', '48', '79',\n",
       "       '82', '92', 0.2, 0.93, 0.34, '6.2', '54', 0.31, '65', 0.79, 0.78,\n",
       "       '70', 0.7, 0.96, 0.85, '7.4', 0.86, '88', 0.69, 0.32, 0.58, 0.51,\n",
       "       0.67, '93', 0.17, 0.09, 0.74, 0.49, 0.22, 0.92, 0.02, 0.37, 0.41,\n",
       "       0.83, 0.61, 0.9, 0.55, 0.47, 0.76, 0.68, '74', 0.89, 0.91, 0.01,\n",
       "       0.33, 0.28, 0.73, 0.57, 0.75, 0.82, 0.05, 0.4, 0.24, 0.94, 0.66,\n",
       "       0.65, 0.15, 0.36, 0.84, 0.46, 0.77, 0.97, 0.95, 0.16, 0.38, 0.26,\n",
       "       0.27, 0.62, 0.45, 0.8, 0.11, 0.44, 0.5, 0.6, 0.1, 0.43, 0.18, 0.42,\n",
       "       0.48, 0.71, 0.21, 0.29, 0.14], dtype=object)"
      ]
     },
     "execution_count": 49,
     "metadata": {},
     "output_type": "execute_result"
    }
   ],
   "source": [
    "# Cross checking if we have successfully imputed the values or not:\n",
    "\n",
    "apps['Size'].unique()"
   ]
  },
  {
   "cell_type": "code",
   "execution_count": 50,
   "id": "83e7659c",
   "metadata": {},
   "outputs": [
    {
     "data": {
      "text/plain": [
       "dtype('O')"
      ]
     },
     "execution_count": 50,
     "metadata": {},
     "output_type": "execute_result"
    }
   ],
   "source": [
    "# Checking the datatype of the Size column:\n",
    "\n",
    "apps['Size'].dtypes"
   ]
  },
  {
   "cell_type": "code",
   "execution_count": 51,
   "id": "2a41b434",
   "metadata": {},
   "outputs": [],
   "source": [
    "# Converting the datatype of the Size column:\n",
    "\n",
    "apps['Size'] = apps['Size'].astype(\"float32\")"
   ]
  },
  {
   "cell_type": "code",
   "execution_count": 52,
   "id": "94260fbb",
   "metadata": {},
   "outputs": [
    {
     "data": {
      "text/plain": [
       "dtype('float32')"
      ]
     },
     "execution_count": 52,
     "metadata": {},
     "output_type": "execute_result"
    }
   ],
   "source": [
    "# Cross checking the datatype of the Size column:\n",
    "\n",
    "apps['Size'].dtypes"
   ]
  },
  {
   "cell_type": "markdown",
   "id": "d4059424",
   "metadata": {},
   "source": [
    "**Installs column**"
   ]
  },
  {
   "cell_type": "code",
   "execution_count": 53,
   "id": "63492e67",
   "metadata": {},
   "outputs": [
    {
     "data": {
      "text/plain": [
       "0"
      ]
     },
     "execution_count": 53,
     "metadata": {},
     "output_type": "execute_result"
    }
   ],
   "source": [
    "#looking for null values:\n",
    "\n",
    "apps['Installs'].isnull().sum()"
   ]
  },
  {
   "cell_type": "code",
   "execution_count": 54,
   "id": "47a199b4",
   "metadata": {},
   "outputs": [
    {
     "data": {
      "text/plain": [
       "array([1.e+04, 1.e+06, 5.e+02, 1.e+00, 1.e+03, 5.e+03, 1.e+02, 5.e+05,\n",
       "       5.e+07, 5.e+04, 1.e+07, 1.e+05, 1.e+08, 5.e+06, 1.e+01, 1.e+09,\n",
       "       5.e+01, 5.e+00, 5.e+08, 0.e+00])"
      ]
     },
     "execution_count": 54,
     "metadata": {},
     "output_type": "execute_result"
    }
   ],
   "source": [
    "# Looking at unique values:\n",
    "\n",
    "apps['Installs'].unique()"
   ]
  },
  {
   "cell_type": "code",
   "execution_count": 55,
   "id": "c3981b6c",
   "metadata": {},
   "outputs": [
    {
     "data": {
      "text/plain": [
       "dtype('float64')"
      ]
     },
     "execution_count": 55,
     "metadata": {},
     "output_type": "execute_result"
    }
   ],
   "source": [
    "# Checking the datatype:\n",
    "\n",
    "apps['Installs'].dtypes"
   ]
  },
  {
   "cell_type": "code",
   "execution_count": 56,
   "id": "52675a92",
   "metadata": {},
   "outputs": [],
   "source": [
    "# Converting float64 into int32:\n",
    "\n",
    "apps['Installs'] = apps['Installs'].astype(\"int32\")"
   ]
  },
  {
   "cell_type": "code",
   "execution_count": 57,
   "id": "6a6f9876",
   "metadata": {},
   "outputs": [
    {
     "data": {
      "text/plain": [
       "dtype('int32')"
      ]
     },
     "execution_count": 57,
     "metadata": {},
     "output_type": "execute_result"
    }
   ],
   "source": [
    "# Cross checking if we have successfully changed the datatype:\n",
    "\n",
    "apps['Installs'].dtypes"
   ]
  },
  {
   "cell_type": "markdown",
   "id": "c65026cc",
   "metadata": {},
   "source": [
    "**Type column**"
   ]
  },
  {
   "cell_type": "code",
   "execution_count": 58,
   "id": "1ae0cfdd",
   "metadata": {},
   "outputs": [
    {
     "data": {
      "text/plain": [
       "1"
      ]
     },
     "execution_count": 58,
     "metadata": {},
     "output_type": "execute_result"
    }
   ],
   "source": [
    "# looking for null values:\n",
    "\n",
    "apps['Type'].isnull().sum()"
   ]
  },
  {
   "cell_type": "code",
   "execution_count": 59,
   "id": "4a7e208c",
   "metadata": {
    "scrolled": true
   },
   "outputs": [
    {
     "data": {
      "text/html": [
       "<div>\n",
       "<style scoped>\n",
       "    .dataframe tbody tr th:only-of-type {\n",
       "        vertical-align: middle;\n",
       "    }\n",
       "\n",
       "    .dataframe tbody tr th {\n",
       "        vertical-align: top;\n",
       "    }\n",
       "\n",
       "    .dataframe thead th {\n",
       "        text-align: right;\n",
       "    }\n",
       "</style>\n",
       "<table border=\"1\" class=\"dataframe\">\n",
       "  <thead>\n",
       "    <tr style=\"text-align: right;\">\n",
       "      <th></th>\n",
       "      <th>App</th>\n",
       "      <th>Category</th>\n",
       "      <th>Rating</th>\n",
       "      <th>Reviews</th>\n",
       "      <th>Size</th>\n",
       "      <th>Installs</th>\n",
       "      <th>Type</th>\n",
       "      <th>Price</th>\n",
       "      <th>Content Rating</th>\n",
       "      <th>Genres</th>\n",
       "      <th>Last Updated</th>\n",
       "      <th>Current Ver</th>\n",
       "      <th>Android Ver</th>\n",
       "    </tr>\n",
       "  </thead>\n",
       "  <tbody>\n",
       "    <tr>\n",
       "      <th>9148</th>\n",
       "      <td>Command &amp; Conquer: Rivals</td>\n",
       "      <td>FAMILY</td>\n",
       "      <td>0.0</td>\n",
       "      <td>0</td>\n",
       "      <td>0.0</td>\n",
       "      <td>0</td>\n",
       "      <td>NaN</td>\n",
       "      <td>0.0</td>\n",
       "      <td>Everyone 10+</td>\n",
       "      <td>Strategy</td>\n",
       "      <td>2018-06-28</td>\n",
       "      <td>Varies with device</td>\n",
       "      <td>Varies with device</td>\n",
       "    </tr>\n",
       "  </tbody>\n",
       "</table>\n",
       "</div>"
      ],
      "text/plain": [
       "                            App Category  Rating  Reviews  Size  Installs  \\\n",
       "9148  Command & Conquer: Rivals   FAMILY     0.0        0   0.0         0   \n",
       "\n",
       "     Type  Price Content Rating    Genres Last Updated         Current Ver  \\\n",
       "9148  NaN    0.0   Everyone 10+  Strategy   2018-06-28  Varies with device   \n",
       "\n",
       "             Android Ver  \n",
       "9148  Varies with device  "
      ]
     },
     "execution_count": 59,
     "metadata": {},
     "output_type": "execute_result"
    }
   ],
   "source": [
    "# Looking for that particular record with null value in Type column\n",
    "\n",
    "apps[apps['Type'].isnull() == True]"
   ]
  },
  {
   "cell_type": "markdown",
   "id": "656ccdd0",
   "metadata": {},
   "source": [
    "###### Observation:\n",
    "- This particular record is not much useful as apart from NaN in Type column the other columns like Reviews, Size, Installs doesn't have appropriate values which could be useful for future Analysis."
   ]
  },
  {
   "cell_type": "code",
   "execution_count": 60,
   "id": "3b659be2",
   "metadata": {},
   "outputs": [],
   "source": [
    "# Dropping the record\n",
    "\n",
    "apps = apps[~apps['Type'].isnull()]"
   ]
  },
  {
   "cell_type": "code",
   "execution_count": 61,
   "id": "d875f913",
   "metadata": {},
   "outputs": [
    {
     "data": {
      "text/plain": [
       "0"
      ]
     },
     "execution_count": 61,
     "metadata": {},
     "output_type": "execute_result"
    }
   ],
   "source": [
    "# Cross - checking for null value\n",
    "\n",
    "apps['Type'].isnull().sum()"
   ]
  },
  {
   "cell_type": "code",
   "execution_count": 62,
   "id": "e4a5186c",
   "metadata": {},
   "outputs": [
    {
     "data": {
      "text/plain": [
       "array(['Free', 'Paid'], dtype=object)"
      ]
     },
     "execution_count": 62,
     "metadata": {},
     "output_type": "execute_result"
    }
   ],
   "source": [
    "# checking unique values\n",
    "\n",
    "apps['Type'].unique()"
   ]
  },
  {
   "cell_type": "code",
   "execution_count": 63,
   "id": "f6316a2d",
   "metadata": {},
   "outputs": [
    {
     "data": {
      "text/plain": [
       "Free    8886\n",
       "Paid     751\n",
       "Name: Type, dtype: int64"
      ]
     },
     "execution_count": 63,
     "metadata": {},
     "output_type": "execute_result"
    }
   ],
   "source": [
    "# Looking at counts of sub-type of Type column\n",
    "\n",
    "apps['Type'].value_counts()"
   ]
  },
  {
   "cell_type": "markdown",
   "id": "647c90e0",
   "metadata": {},
   "source": [
    "**Price Column**"
   ]
  },
  {
   "cell_type": "code",
   "execution_count": 64,
   "id": "f1de921a",
   "metadata": {},
   "outputs": [
    {
     "data": {
      "text/plain": [
       "0"
      ]
     },
     "execution_count": 64,
     "metadata": {},
     "output_type": "execute_result"
    }
   ],
   "source": [
    "# looking for null values\n",
    "\n",
    "apps['Price'].isnull().sum()"
   ]
  },
  {
   "cell_type": "code",
   "execution_count": 65,
   "id": "071906d8",
   "metadata": {},
   "outputs": [
    {
     "data": {
      "text/plain": [
       "array([  0.  ,   2.99,   1.99,   1.49,   0.99,  12.99,   2.5 ,  19.99,\n",
       "         2.56,   9.99,   4.49,   1.04,   3.99,   2.9 ,   1.  ,   5.99,\n",
       "         2.49,  79.99,   8.99,   4.99,  16.99,   1.97,   3.49,  17.99,\n",
       "         6.99,   6.49,   1.2 ,   4.85,   2.95,   4.59,  10.99,   7.49,\n",
       "         4.84,   1.76,  29.99,   7.99,   5.49,  10.  ,   4.6 ,   3.02,\n",
       "        14.99,  39.99,   1.7 ,  15.99,   4.29,  24.99, 399.99,   9.  ,\n",
       "         8.49,   1.59,   1.61,  89.99,  74.99,  15.46,   1.26, 400.  ,\n",
       "       299.99,  18.99,  37.99, 379.99,  25.99,   3.88,  13.99,   2.  ,\n",
       "       394.99,   3.61,  11.99, 200.  ,   4.77,  28.99,  46.99,   3.28,\n",
       "       154.99,   1.96,   3.95,   4.8 , 109.99,  19.4 ,  14.  ,   1.75,\n",
       "         2.59,  19.9 ,   3.9 ,   1.5 ,   5.  ,   1.29,   3.04,   2.6 ,\n",
       "        33.99,   3.08])"
      ]
     },
     "execution_count": 65,
     "metadata": {},
     "output_type": "execute_result"
    }
   ],
   "source": [
    "# Looking at unique values\n",
    "\n",
    "apps['Price'].unique()"
   ]
  },
  {
   "cell_type": "code",
   "execution_count": 66,
   "id": "415ee3ed",
   "metadata": {},
   "outputs": [
    {
     "data": {
      "text/plain": [
       "count    9637.000000\n",
       "mean        1.014546\n",
       "std        15.884451\n",
       "min         0.000000\n",
       "25%         0.000000\n",
       "50%         0.000000\n",
       "75%         0.000000\n",
       "max       400.000000\n",
       "Name: Price, dtype: float64"
      ]
     },
     "execution_count": 66,
     "metadata": {},
     "output_type": "execute_result"
    }
   ],
   "source": [
    "# Looking at the description of the Price column\n",
    "\n",
    "apps['Price'].describe()"
   ]
  },
  {
   "cell_type": "code",
   "execution_count": 67,
   "id": "703af3e9",
   "metadata": {},
   "outputs": [
    {
     "data": {
      "text/plain": [
       "dtype('float64')"
      ]
     },
     "execution_count": 67,
     "metadata": {},
     "output_type": "execute_result"
    }
   ],
   "source": [
    "# Checking the datatype\n",
    "\n",
    "apps['Price'].dtypes"
   ]
  },
  {
   "cell_type": "code",
   "execution_count": 68,
   "id": "c15bb812",
   "metadata": {},
   "outputs": [],
   "source": [
    "# Converting the datatype into 'float32'\n",
    "\n",
    "apps['Price'] = apps['Price'].astype(\"float32\")"
   ]
  },
  {
   "cell_type": "code",
   "execution_count": 69,
   "id": "9ca51914",
   "metadata": {},
   "outputs": [
    {
     "data": {
      "text/plain": [
       "dtype('float32')"
      ]
     },
     "execution_count": 69,
     "metadata": {},
     "output_type": "execute_result"
    }
   ],
   "source": [
    "# Cross -checking the datatype\n",
    "\n",
    "apps['Price'].dtypes"
   ]
  },
  {
   "cell_type": "markdown",
   "id": "f7a228c0",
   "metadata": {},
   "source": [
    "**Content Rating Column**"
   ]
  },
  {
   "cell_type": "code",
   "execution_count": 70,
   "id": "d00f8d4a",
   "metadata": {},
   "outputs": [
    {
     "data": {
      "text/plain": [
       "0"
      ]
     },
     "execution_count": 70,
     "metadata": {},
     "output_type": "execute_result"
    }
   ],
   "source": [
    "# looking for null values\n",
    "\n",
    "apps['Content Rating'].isnull().sum()"
   ]
  },
  {
   "cell_type": "code",
   "execution_count": 71,
   "id": "eccf889d",
   "metadata": {},
   "outputs": [
    {
     "data": {
      "text/plain": [
       "array(['Everyone', 'Everyone 10+', 'Teen', 'Mature 17+',\n",
       "       'Adults only 18+', 'Unrated'], dtype=object)"
      ]
     },
     "execution_count": 71,
     "metadata": {},
     "output_type": "execute_result"
    }
   ],
   "source": [
    "# Looking at unique values\n",
    "\n",
    "apps['Content Rating'].unique()"
   ]
  },
  {
   "cell_type": "code",
   "execution_count": 72,
   "id": "9f08c3b2",
   "metadata": {},
   "outputs": [
    {
     "data": {
      "text/plain": [
       "Everyone           7883\n",
       "Teen               1035\n",
       "Mature 17+          393\n",
       "Everyone 10+        321\n",
       "Adults only 18+       3\n",
       "Unrated               2\n",
       "Name: Content Rating, dtype: int64"
      ]
     },
     "execution_count": 72,
     "metadata": {},
     "output_type": "execute_result"
    }
   ],
   "source": [
    "# Looking at counts of sub-type of Content Rating column\n",
    "\n",
    "apps['Content Rating'].value_counts()"
   ]
  },
  {
   "cell_type": "markdown",
   "id": "ac32f51a",
   "metadata": {},
   "source": [
    "**Genres column**"
   ]
  },
  {
   "cell_type": "code",
   "execution_count": 73,
   "id": "eb588c96",
   "metadata": {},
   "outputs": [
    {
     "data": {
      "text/plain": [
       "0"
      ]
     },
     "execution_count": 73,
     "metadata": {},
     "output_type": "execute_result"
    }
   ],
   "source": [
    "# Looking for null values\n",
    "\n",
    "apps['Genres'].isnull().sum()"
   ]
  },
  {
   "cell_type": "code",
   "execution_count": 74,
   "id": "fb0bd629",
   "metadata": {},
   "outputs": [
    {
     "data": {
      "text/plain": [
       "array(['Shopping', 'Maps & Navigation', 'News & Magazines',\n",
       "       'Food & Drink', 'Arcade', 'Education', 'Communication',\n",
       "       'Personalization', 'Tools', 'Sports', 'Entertainment', 'Casino',\n",
       "       'House & Home', 'Auto & Vehicles', 'Education;Education', 'Dating',\n",
       "       'Lifestyle', 'Business', 'Puzzle', 'Parenting;Education',\n",
       "       'Simulation', 'Health & Fitness', 'Action', 'Strategy', 'Medical',\n",
       "       'Finance', 'Social', 'Educational;Education', 'Travel & Local',\n",
       "       'Photography', 'Video Players & Editors',\n",
       "       'Entertainment;Music & Video', 'Trivia', 'Libraries & Demo',\n",
       "       'Books & Reference', 'Casual', 'Weather', 'Productivity',\n",
       "       'Racing;Action & Adventure', 'Events', 'Adventure', 'Art & Design',\n",
       "       'Books & Reference;Creativity', 'Beauty',\n",
       "       'Puzzle;Action & Adventure', 'Card', 'Board;Pretend Play', 'Word',\n",
       "       'Puzzle;Brain Games', 'Role Playing', 'Board;Action & Adventure',\n",
       "       'Parenting', 'Racing', 'Arcade;Action & Adventure', 'Comics',\n",
       "       'Educational', 'Board', 'Video Players & Editors;Creativity',\n",
       "       'Comics;Creativity', 'Art & Design;Creativity',\n",
       "       'Board;Brain Games', 'Simulation;Education',\n",
       "       'Adventure;Action & Adventure', 'Casual;Action & Adventure',\n",
       "       'Simulation;Pretend Play', 'Casual;Brain Games',\n",
       "       'Music & Audio;Music & Video', 'Educational;Creativity',\n",
       "       'Education;Pretend Play', 'Educational;Pretend Play',\n",
       "       'Education;Creativity', 'Adventure;Brain Games',\n",
       "       'Action;Action & Adventure', 'Strategy;Action & Adventure',\n",
       "       'Lifestyle;Pretend Play', 'Health & Fitness;Education',\n",
       "       'Casual;Pretend Play', 'Role Playing;Action & Adventure', 'Music',\n",
       "       'Simulation;Action & Adventure', 'Entertainment;Brain Games',\n",
       "       'Entertainment;Creativity', 'Music;Music & Video',\n",
       "       'Education;Music & Video', 'Educational;Brain Games',\n",
       "       'Casual;Education', 'Entertainment;Action & Adventure',\n",
       "       'Education;Brain Games', 'Entertainment;Pretend Play',\n",
       "       'Puzzle;Education', 'Lifestyle;Education', 'Casual;Creativity',\n",
       "       'Education;Action & Adventure', 'Sports;Action & Adventure',\n",
       "       'Tools;Education', 'Role Playing;Pretend Play',\n",
       "       'Parenting;Music & Video', 'Parenting;Brain Games',\n",
       "       'Communication;Creativity', 'Art & Design;Action & Adventure',\n",
       "       'Strategy;Education', 'Racing;Pretend Play', 'Adventure;Education',\n",
       "       'Role Playing;Education', 'Video Players & Editors;Music & Video',\n",
       "       'Role Playing;Brain Games', 'Educational;Action & Adventure',\n",
       "       'Arcade;Pretend Play', 'Entertainment;Education',\n",
       "       'Casual;Music & Video', 'Strategy;Creativity',\n",
       "       'Books & Reference;Education',\n",
       "       'Health & Fitness;Action & Adventure', 'Puzzle;Creativity',\n",
       "       'Art & Design;Pretend Play', 'Card;Action & Adventure',\n",
       "       'Trivia;Education', 'Travel & Local;Action & Adventure'],\n",
       "      dtype=object)"
      ]
     },
     "execution_count": 74,
     "metadata": {},
     "output_type": "execute_result"
    }
   ],
   "source": [
    "# Looking at unique values\n",
    "\n",
    "apps['Genres'].unique()"
   ]
  },
  {
   "cell_type": "markdown",
   "id": "3d7c8370",
   "metadata": {},
   "source": [
    "###### Observation:\n",
    "- We can observe that some of the values have two genres separated with `';'` (semicolon). So for further analysis, we will separate the them into two columns named as `Genre_1` and `Genre_2` and we will remove original Genres column."
   ]
  },
  {
   "cell_type": "code",
   "execution_count": 75,
   "id": "fa22701e",
   "metadata": {},
   "outputs": [],
   "source": [
    "# Storing the values of genre before ';' in Genre 1\n",
    "\n",
    "Genre_1 = apps['Genres'].apply(lambda value : value.split(';')[0])\n",
    "\n",
    "\n",
    "# Storing the values of genre after ';' in Genre 2\n",
    "# Places where Genre_2 values are not present, substituting them with 'Not Applicable'\n",
    "\n",
    "Genre_2 = apps['Genres'].apply(lambda value : value.split(';')[1] if len(value.split(';')) > 1 else \"Not Applicable\")"
   ]
  },
  {
   "cell_type": "code",
   "execution_count": 76,
   "id": "f4f1b70a",
   "metadata": {},
   "outputs": [],
   "source": [
    "# Inserting the Genre_1 and Genre_2 columns at column index 10 & 11 respectively\n",
    "\n",
    "apps.insert(10, 'Genre_1', Genre_1)\n",
    "apps.insert(11, 'Genre_2', Genre_2)"
   ]
  },
  {
   "cell_type": "code",
   "execution_count": 77,
   "id": "18fd1d5b",
   "metadata": {},
   "outputs": [
    {
     "data": {
      "text/plain": [
       "(9637, 15)"
      ]
     },
     "execution_count": 77,
     "metadata": {},
     "output_type": "execute_result"
    }
   ],
   "source": [
    "# Looking at the dimension of apps dataset after addition of new columns\n",
    "\n",
    "apps.shape"
   ]
  },
  {
   "cell_type": "code",
   "execution_count": 78,
   "id": "ddf934dd",
   "metadata": {},
   "outputs": [],
   "source": [
    "# Capturing the values of those indexes where Genre_1 and Genre_2 are same\n",
    "\n",
    "apps_index = apps[apps['Genre_1'] == apps['Genre_2']].index"
   ]
  },
  {
   "cell_type": "code",
   "execution_count": 79,
   "id": "ee3e4e59",
   "metadata": {},
   "outputs": [],
   "source": [
    "# Replacing the values in Genre_2 column with 'Not Applicable' where we found that Genre_2 is the same value as in Genre_1\n",
    "\n",
    "for i in apps_index:\n",
    "    apps['Genre_2'][i] = \"Not Applicable\""
   ]
  },
  {
   "cell_type": "code",
   "execution_count": 80,
   "id": "76d23a88",
   "metadata": {},
   "outputs": [],
   "source": [
    "# Dropping the original Genre column and save it separtely\n",
    "\n",
    "Original_Genres = apps.pop('Genres')"
   ]
  },
  {
   "cell_type": "code",
   "execution_count": 81,
   "id": "0bd184ec",
   "metadata": {},
   "outputs": [
    {
     "data": {
      "text/plain": [
       "(9637, 14)"
      ]
     },
     "execution_count": 81,
     "metadata": {},
     "output_type": "execute_result"
    }
   ],
   "source": [
    "# Looking at the dimension of apps dataset\n",
    "\n",
    "apps.shape"
   ]
  },
  {
   "cell_type": "code",
   "execution_count": 82,
   "id": "02a5ec5d",
   "metadata": {},
   "outputs": [
    {
     "data": {
      "text/html": [
       "<div>\n",
       "<style scoped>\n",
       "    .dataframe tbody tr th:only-of-type {\n",
       "        vertical-align: middle;\n",
       "    }\n",
       "\n",
       "    .dataframe tbody tr th {\n",
       "        vertical-align: top;\n",
       "    }\n",
       "\n",
       "    .dataframe thead th {\n",
       "        text-align: right;\n",
       "    }\n",
       "</style>\n",
       "<table border=\"1\" class=\"dataframe\">\n",
       "  <thead>\n",
       "    <tr style=\"text-align: right;\">\n",
       "      <th></th>\n",
       "      <th>App</th>\n",
       "      <th>Category</th>\n",
       "      <th>Rating</th>\n",
       "      <th>Reviews</th>\n",
       "      <th>Size</th>\n",
       "      <th>Installs</th>\n",
       "      <th>Type</th>\n",
       "      <th>Price</th>\n",
       "      <th>Content Rating</th>\n",
       "      <th>Genre_1</th>\n",
       "      <th>Genre_2</th>\n",
       "      <th>Last Updated</th>\n",
       "      <th>Current Ver</th>\n",
       "      <th>Android Ver</th>\n",
       "    </tr>\n",
       "  </thead>\n",
       "  <tbody>\n",
       "    <tr>\n",
       "      <th>8133</th>\n",
       "      <td>Šmelina .Cz Inzeráty Inzerce</td>\n",
       "      <td>SHOPPING</td>\n",
       "      <td>3.9</td>\n",
       "      <td>117</td>\n",
       "      <td>9.8</td>\n",
       "      <td>10000</td>\n",
       "      <td>Free</td>\n",
       "      <td>0.00</td>\n",
       "      <td>Everyone</td>\n",
       "      <td>Shopping</td>\n",
       "      <td>Not Applicable</td>\n",
       "      <td>2018-05-13</td>\n",
       "      <td>1.3</td>\n",
       "      <td>4.0 and up</td>\n",
       "    </tr>\n",
       "    <tr>\n",
       "      <th>3859</th>\n",
       "      <td>Öbb Scotty</td>\n",
       "      <td>MAPS_AND_NAVIGATION</td>\n",
       "      <td>4.2</td>\n",
       "      <td>12572</td>\n",
       "      <td>24.0</td>\n",
       "      <td>1000000</td>\n",
       "      <td>Free</td>\n",
       "      <td>0.00</td>\n",
       "      <td>Everyone</td>\n",
       "      <td>Maps &amp; Navigation</td>\n",
       "      <td>Not Applicable</td>\n",
       "      <td>2018-02-19</td>\n",
       "      <td>5.4 (30)</td>\n",
       "      <td>4.0 and up</td>\n",
       "    </tr>\n",
       "    <tr>\n",
       "      <th>9828</th>\n",
       "      <td>Égalité Et Réconciliation</td>\n",
       "      <td>NEWS_AND_MAGAZINES</td>\n",
       "      <td>4.9</td>\n",
       "      <td>58</td>\n",
       "      <td>3.8</td>\n",
       "      <td>500</td>\n",
       "      <td>Paid</td>\n",
       "      <td>2.99</td>\n",
       "      <td>Everyone</td>\n",
       "      <td>News &amp; Magazines</td>\n",
       "      <td>Not Applicable</td>\n",
       "      <td>2018-05-26</td>\n",
       "      <td>1.1.1</td>\n",
       "      <td>5.0 and up</td>\n",
       "    </tr>\n",
       "    <tr>\n",
       "      <th>9819</th>\n",
       "      <td>¿Es Vegan?</td>\n",
       "      <td>FOOD_AND_DRINK</td>\n",
       "      <td>4.6</td>\n",
       "      <td>438</td>\n",
       "      <td>1.7</td>\n",
       "      <td>10000</td>\n",
       "      <td>Free</td>\n",
       "      <td>0.00</td>\n",
       "      <td>Everyone</td>\n",
       "      <td>Food &amp; Drink</td>\n",
       "      <td>Not Applicable</td>\n",
       "      <td>2017-01-08</td>\n",
       "      <td>2.2.3</td>\n",
       "      <td>3.0 and up</td>\n",
       "    </tr>\n",
       "    <tr>\n",
       "      <th>5844</th>\n",
       "      <td>¡Ay Metro!</td>\n",
       "      <td>GAME</td>\n",
       "      <td>3.8</td>\n",
       "      <td>489</td>\n",
       "      <td>36.0</td>\n",
       "      <td>10000</td>\n",
       "      <td>Free</td>\n",
       "      <td>0.00</td>\n",
       "      <td>Everyone 10+</td>\n",
       "      <td>Arcade</td>\n",
       "      <td>Not Applicable</td>\n",
       "      <td>2015-03-17</td>\n",
       "      <td>1.0.3.1</td>\n",
       "      <td>4.0 and up</td>\n",
       "    </tr>\n",
       "    <tr>\n",
       "      <th>...</th>\n",
       "      <td>...</td>\n",
       "      <td>...</td>\n",
       "      <td>...</td>\n",
       "      <td>...</td>\n",
       "      <td>...</td>\n",
       "      <td>...</td>\n",
       "      <td>...</td>\n",
       "      <td>...</td>\n",
       "      <td>...</td>\n",
       "      <td>...</td>\n",
       "      <td>...</td>\n",
       "      <td>...</td>\n",
       "      <td>...</td>\n",
       "      <td>...</td>\n",
       "    </tr>\n",
       "    <tr>\n",
       "      <th>4636</th>\n",
       "      <td>/U/App</td>\n",
       "      <td>COMMUNICATION</td>\n",
       "      <td>4.7</td>\n",
       "      <td>573</td>\n",
       "      <td>53.0</td>\n",
       "      <td>10000</td>\n",
       "      <td>Free</td>\n",
       "      <td>0.00</td>\n",
       "      <td>Mature 17+</td>\n",
       "      <td>Communication</td>\n",
       "      <td>Not Applicable</td>\n",
       "      <td>2018-03-07</td>\n",
       "      <td>4.2.4</td>\n",
       "      <td>4.1 and up</td>\n",
       "    </tr>\n",
       "    <tr>\n",
       "      <th>4541</th>\n",
       "      <td>.R</td>\n",
       "      <td>TOOLS</td>\n",
       "      <td>4.5</td>\n",
       "      <td>259</td>\n",
       "      <td>0.2</td>\n",
       "      <td>10000</td>\n",
       "      <td>Free</td>\n",
       "      <td>0.00</td>\n",
       "      <td>Everyone</td>\n",
       "      <td>Tools</td>\n",
       "      <td>Not Applicable</td>\n",
       "      <td>2014-09-16</td>\n",
       "      <td>1.1.06</td>\n",
       "      <td>1.5 and up</td>\n",
       "    </tr>\n",
       "    <tr>\n",
       "      <th>8532</th>\n",
       "      <td>+Download 4 Instagram Twitter</td>\n",
       "      <td>SOCIAL</td>\n",
       "      <td>4.5</td>\n",
       "      <td>40467</td>\n",
       "      <td>22.0</td>\n",
       "      <td>1000000</td>\n",
       "      <td>Free</td>\n",
       "      <td>0.00</td>\n",
       "      <td>Everyone</td>\n",
       "      <td>Social</td>\n",
       "      <td>Not Applicable</td>\n",
       "      <td>2018-02-08</td>\n",
       "      <td>5.03</td>\n",
       "      <td>4.1 and up</td>\n",
       "    </tr>\n",
       "    <tr>\n",
       "      <th>324</th>\n",
       "      <td>#Name?</td>\n",
       "      <td>COMICS</td>\n",
       "      <td>3.5</td>\n",
       "      <td>115</td>\n",
       "      <td>9.1</td>\n",
       "      <td>10000</td>\n",
       "      <td>Free</td>\n",
       "      <td>0.00</td>\n",
       "      <td>Mature 17+</td>\n",
       "      <td>Comics</td>\n",
       "      <td>Not Applicable</td>\n",
       "      <td>2018-07-13</td>\n",
       "      <td>5.0.12</td>\n",
       "      <td>5.0 and up</td>\n",
       "    </tr>\n",
       "    <tr>\n",
       "      <th>8884</th>\n",
       "      <td>\"I Dt\" Fútbol. Todos Somos Técnicos.</td>\n",
       "      <td>SPORTS</td>\n",
       "      <td>0.0</td>\n",
       "      <td>27</td>\n",
       "      <td>3.6</td>\n",
       "      <td>500</td>\n",
       "      <td>Free</td>\n",
       "      <td>0.00</td>\n",
       "      <td>Everyone</td>\n",
       "      <td>Sports</td>\n",
       "      <td>Not Applicable</td>\n",
       "      <td>2017-07-10</td>\n",
       "      <td>0.22</td>\n",
       "      <td>4.1 and up</td>\n",
       "    </tr>\n",
       "  </tbody>\n",
       "</table>\n",
       "<p>9637 rows × 14 columns</p>\n",
       "</div>"
      ],
      "text/plain": [
       "                                       App             Category  Rating  \\\n",
       "8133          Šmelina .Cz Inzeráty Inzerce             SHOPPING     3.9   \n",
       "3859                            Öbb Scotty  MAPS_AND_NAVIGATION     4.2   \n",
       "9828             Égalité Et Réconciliation   NEWS_AND_MAGAZINES     4.9   \n",
       "9819                            ¿Es Vegan?       FOOD_AND_DRINK     4.6   \n",
       "5844                            ¡Ay Metro!                 GAME     3.8   \n",
       "...                                    ...                  ...     ...   \n",
       "4636                                /U/App        COMMUNICATION     4.7   \n",
       "4541                                    .R                TOOLS     4.5   \n",
       "8532         +Download 4 Instagram Twitter               SOCIAL     4.5   \n",
       "324                                 #Name?               COMICS     3.5   \n",
       "8884  \"I Dt\" Fútbol. Todos Somos Técnicos.               SPORTS     0.0   \n",
       "\n",
       "      Reviews  Size  Installs  Type  Price Content Rating            Genre_1  \\\n",
       "8133      117   9.8     10000  Free   0.00       Everyone           Shopping   \n",
       "3859    12572  24.0   1000000  Free   0.00       Everyone  Maps & Navigation   \n",
       "9828       58   3.8       500  Paid   2.99       Everyone   News & Magazines   \n",
       "9819      438   1.7     10000  Free   0.00       Everyone       Food & Drink   \n",
       "5844      489  36.0     10000  Free   0.00   Everyone 10+             Arcade   \n",
       "...       ...   ...       ...   ...    ...            ...                ...   \n",
       "4636      573  53.0     10000  Free   0.00     Mature 17+      Communication   \n",
       "4541      259   0.2     10000  Free   0.00       Everyone              Tools   \n",
       "8532    40467  22.0   1000000  Free   0.00       Everyone             Social   \n",
       "324       115   9.1     10000  Free   0.00     Mature 17+             Comics   \n",
       "8884       27   3.6       500  Free   0.00       Everyone             Sports   \n",
       "\n",
       "             Genre_2 Last Updated Current Ver Android Ver  \n",
       "8133  Not Applicable   2018-05-13         1.3  4.0 and up  \n",
       "3859  Not Applicable   2018-02-19    5.4 (30)  4.0 and up  \n",
       "9828  Not Applicable   2018-05-26       1.1.1  5.0 and up  \n",
       "9819  Not Applicable   2017-01-08       2.2.3  3.0 and up  \n",
       "5844  Not Applicable   2015-03-17     1.0.3.1  4.0 and up  \n",
       "...              ...          ...         ...         ...  \n",
       "4636  Not Applicable   2018-03-07       4.2.4  4.1 and up  \n",
       "4541  Not Applicable   2014-09-16      1.1.06  1.5 and up  \n",
       "8532  Not Applicable   2018-02-08        5.03  4.1 and up  \n",
       "324   Not Applicable   2018-07-13      5.0.12  5.0 and up  \n",
       "8884  Not Applicable   2017-07-10        0.22  4.1 and up  \n",
       "\n",
       "[9637 rows x 14 columns]"
      ]
     },
     "execution_count": 82,
     "metadata": {},
     "output_type": "execute_result"
    }
   ],
   "source": [
    "# Looking at apps dataset\n",
    "\n",
    "apps"
   ]
  },
  {
   "cell_type": "code",
   "execution_count": 83,
   "id": "7ac02231",
   "metadata": {},
   "outputs": [
    {
     "name": "stdout",
     "output_type": "stream",
     "text": [
      "<class 'pandas.core.frame.DataFrame'>\n",
      "Int64Index: 9637 entries, 8133 to 8884\n",
      "Data columns (total 14 columns):\n",
      " #   Column          Non-Null Count  Dtype         \n",
      "---  ------          --------------  -----         \n",
      " 0   App             9637 non-null   object        \n",
      " 1   Category        9637 non-null   object        \n",
      " 2   Rating          9637 non-null   float64       \n",
      " 3   Reviews         9637 non-null   int32         \n",
      " 4   Size            9637 non-null   float32       \n",
      " 5   Installs        9637 non-null   int32         \n",
      " 6   Type            9637 non-null   object        \n",
      " 7   Price           9637 non-null   float32       \n",
      " 8   Content Rating  9637 non-null   object        \n",
      " 9   Genre_1         9637 non-null   object        \n",
      " 10  Genre_2         9637 non-null   object        \n",
      " 11  Last Updated    9637 non-null   datetime64[ns]\n",
      " 12  Current Ver     9629 non-null   object        \n",
      " 13  Android Ver     9635 non-null   object        \n",
      "dtypes: datetime64[ns](1), float32(2), float64(1), int32(2), object(8)\n",
      "memory usage: 1.2+ MB\n"
     ]
    }
   ],
   "source": [
    "# Checking information of apps dataset\n",
    "\n",
    "apps.info()"
   ]
  },
  {
   "cell_type": "markdown",
   "id": "295e5627",
   "metadata": {},
   "source": [
    "**Last Updated Column**"
   ]
  },
  {
   "cell_type": "code",
   "execution_count": 84,
   "id": "ccdfda64",
   "metadata": {},
   "outputs": [
    {
     "data": {
      "text/plain": [
       "0"
      ]
     },
     "execution_count": 84,
     "metadata": {},
     "output_type": "execute_result"
    }
   ],
   "source": [
    "# Looking for null values\n",
    "\n",
    "apps['Last Updated'].isnull().sum()"
   ]
  },
  {
   "cell_type": "code",
   "execution_count": 85,
   "id": "0e37c7d4",
   "metadata": {},
   "outputs": [
    {
     "data": {
      "text/plain": [
       "dtype('<M8[ns]')"
      ]
     },
     "execution_count": 85,
     "metadata": {},
     "output_type": "execute_result"
    }
   ],
   "source": [
    "# Looking at datatype\n",
    "\n",
    "apps['Last Updated'].dtypes"
   ]
  },
  {
   "cell_type": "markdown",
   "id": "175837a1",
   "metadata": {},
   "source": [
    "**Current Ver Column**"
   ]
  },
  {
   "cell_type": "code",
   "execution_count": 86,
   "id": "0b8506b6",
   "metadata": {},
   "outputs": [
    {
     "data": {
      "text/plain": [
       "8"
      ]
     },
     "execution_count": 86,
     "metadata": {},
     "output_type": "execute_result"
    }
   ],
   "source": [
    "# Looking for null values\n",
    "\n",
    "apps['Current Ver'].isnull().sum()"
   ]
  },
  {
   "cell_type": "code",
   "execution_count": 87,
   "id": "60319526",
   "metadata": {},
   "outputs": [],
   "source": [
    "# Replacing the null values with \"Unknown\" as its is a categorical column.\n",
    "\n",
    "apps['Current Ver'].fillna(\"Unknown\", inplace= True)"
   ]
  },
  {
   "cell_type": "code",
   "execution_count": 88,
   "id": "ad01cb87",
   "metadata": {},
   "outputs": [
    {
     "data": {
      "text/plain": [
       "0"
      ]
     },
     "execution_count": 88,
     "metadata": {},
     "output_type": "execute_result"
    }
   ],
   "source": [
    "# Checking null values\n",
    "\n",
    "apps['Current Ver'].isnull().sum()"
   ]
  },
  {
   "cell_type": "code",
   "execution_count": 89,
   "id": "27a1b1a9",
   "metadata": {},
   "outputs": [
    {
     "data": {
      "text/plain": [
       "array(['1.3', '5.4 (30)', '1.1.1', ..., '1.1.06', '5.03', '0.22'],\n",
       "      dtype=object)"
      ]
     },
     "execution_count": 89,
     "metadata": {},
     "output_type": "execute_result"
    }
   ],
   "source": [
    "# Looking at unique values\n",
    "\n",
    "apps['Current Ver'].unique()"
   ]
  },
  {
   "cell_type": "code",
   "execution_count": 90,
   "id": "5e9b0e1b",
   "metadata": {},
   "outputs": [
    {
     "data": {
      "text/plain": [
       "Varies with device    1052\n",
       "1                      822\n",
       "1.1                    270\n",
       "1.2                    183\n",
       "2                      163\n",
       "                      ... \n",
       "1.3.6.4                  1\n",
       "1.29.15                  1\n",
       "04.00.40                 1\n",
       "1.9.22                   1\n",
       "9.8.000000010492         1\n",
       "Name: Current Ver, Length: 2771, dtype: int64"
      ]
     },
     "execution_count": 90,
     "metadata": {},
     "output_type": "execute_result"
    }
   ],
   "source": [
    "# Looking at the count of sub-type of Current Ver column\n",
    "\n",
    "apps['Current Ver'].value_counts()"
   ]
  },
  {
   "cell_type": "markdown",
   "id": "0762633a",
   "metadata": {},
   "source": [
    "**Android Ver Column**"
   ]
  },
  {
   "cell_type": "code",
   "execution_count": 91,
   "id": "0717c115",
   "metadata": {},
   "outputs": [
    {
     "data": {
      "text/plain": [
       "2"
      ]
     },
     "execution_count": 91,
     "metadata": {},
     "output_type": "execute_result"
    }
   ],
   "source": [
    "# Looking for null values\n",
    "\n",
    "apps['Android Ver'].isnull().sum()"
   ]
  },
  {
   "cell_type": "code",
   "execution_count": 92,
   "id": "ec246b8a",
   "metadata": {},
   "outputs": [],
   "source": [
    "# Replacing the null values with \"Unknown\" as its is a categorical column.\n",
    "\n",
    "apps['Android Ver'].fillna(\"Unknown\", inplace= True)"
   ]
  },
  {
   "cell_type": "code",
   "execution_count": 93,
   "id": "e5ccacfc",
   "metadata": {},
   "outputs": [
    {
     "data": {
      "text/plain": [
       "0"
      ]
     },
     "execution_count": 93,
     "metadata": {},
     "output_type": "execute_result"
    }
   ],
   "source": [
    "# Checking for null values\n",
    "\n",
    "apps['Android Ver'].isnull().sum()"
   ]
  },
  {
   "cell_type": "code",
   "execution_count": 94,
   "id": "7c73a37f",
   "metadata": {},
   "outputs": [
    {
     "data": {
      "text/plain": [
       "array(['4.0 and up', '5.0 and up', '3.0 and up', 'Unknown', '7.0 and up',\n",
       "       '4.0.3 and up', '4.2 and up', '4.3 and up', '4.1 and up',\n",
       "       'Varies with device', '3.2 and up', '2.1 and up', '2.3 and up',\n",
       "       '2.3.3 and up', '4.4 and up', '7.0 - 7.1.1', '2.2 and up',\n",
       "       '6.0 and up', '5.1 and up', '1.6 and up', '4.4W and up',\n",
       "       '1.5 and up', '4.0.3 - 7.1.1', '2.0 and up', '2.0.1 and up',\n",
       "       '8.0 and up', '1.0 and up', '3.1 and up', '5.0 - 8.0',\n",
       "       '7.1 and up', '5.0 - 6.0', '4.1 - 7.1.1', '5.0 - 7.1.1',\n",
       "       '2.2 - 7.1.1'], dtype=object)"
      ]
     },
     "execution_count": 94,
     "metadata": {},
     "output_type": "execute_result"
    }
   ],
   "source": [
    "# Looking at unique values\n",
    "\n",
    "apps['Android Ver'].unique()"
   ]
  },
  {
   "cell_type": "code",
   "execution_count": 95,
   "id": "e031a0b2",
   "metadata": {},
   "outputs": [
    {
     "data": {
      "text/plain": [
       "(9637, 14)"
      ]
     },
     "execution_count": 95,
     "metadata": {},
     "output_type": "execute_result"
    }
   ],
   "source": [
    "# earlier (10841,13)\n",
    "\n",
    "# Apps dataset new dimension\n",
    "apps.shape"
   ]
  },
  {
   "cell_type": "markdown",
   "id": "0072435f",
   "metadata": {},
   "source": [
    "___\n",
    "### Sanctity Checks"
   ]
  },
  {
   "cell_type": "markdown",
   "id": "09a5d915",
   "metadata": {},
   "source": [
    "###### Few checks/conditions that need to be fulfilled:\n",
    "\n",
    "- Rating for the Apps should be less than 5.\n",
    "- Reviews should not be greater than Installs for any app.\n",
    "- Free apps should not be priced/charged. "
   ]
  },
  {
   "cell_type": "markdown",
   "id": "5ab22a92",
   "metadata": {},
   "source": [
    "**1) Rating for the apps should be less than 5**"
   ]
  },
  {
   "cell_type": "code",
   "execution_count": 96,
   "id": "e5465d01",
   "metadata": {},
   "outputs": [
    {
     "data": {
      "text/plain": [
       "8133    False\n",
       "3859    False\n",
       "9828    False\n",
       "9819    False\n",
       "5844    False\n",
       "        ...  \n",
       "4636    False\n",
       "4541    False\n",
       "8532    False\n",
       "324     False\n",
       "8884    False\n",
       "Name: Rating, Length: 9637, dtype: bool"
      ]
     },
     "execution_count": 96,
     "metadata": {},
     "output_type": "execute_result"
    }
   ],
   "source": [
    "# Looking for records where rating for an app is greater than 5\n",
    "\n",
    "apps['Rating']>5"
   ]
  },
  {
   "cell_type": "code",
   "execution_count": 97,
   "id": "5294a2eb",
   "metadata": {},
   "outputs": [
    {
     "data": {
      "text/plain": [
       "(0, 14)"
      ]
     },
     "execution_count": 97,
     "metadata": {},
     "output_type": "execute_result"
    }
   ],
   "source": [
    "# Looking at number of records where an app has a rating > 5\n",
    "\n",
    "apps[apps['Rating']>5].shape"
   ]
  },
  {
   "cell_type": "markdown",
   "id": "f8874abb",
   "metadata": {},
   "source": [
    "- No app has rating above 5."
   ]
  },
  {
   "cell_type": "code",
   "execution_count": 98,
   "id": "31f08f6a",
   "metadata": {},
   "outputs": [
    {
     "data": {
      "text/plain": [
       "count    9637.000000\n",
       "mean        3.542908\n",
       "std         1.574802\n",
       "min         0.000000\n",
       "25%         3.600000\n",
       "50%         4.200000\n",
       "75%         4.500000\n",
       "max         5.000000\n",
       "Name: Rating, dtype: float64"
      ]
     },
     "execution_count": 98,
     "metadata": {},
     "output_type": "execute_result"
    }
   ],
   "source": [
    "apps['Rating'].describe()"
   ]
  },
  {
   "cell_type": "markdown",
   "id": "9d92d3e4",
   "metadata": {},
   "source": [
    "##### Observation:\n",
    "\n",
    "- All the Ratings are well within the defined limit i.e. less than 5."
   ]
  },
  {
   "cell_type": "markdown",
   "id": "5c73f3bd",
   "metadata": {},
   "source": [
    "**2) Reviews should not be greater than Installs for any app**"
   ]
  },
  {
   "cell_type": "code",
   "execution_count": 99,
   "id": "e17642eb",
   "metadata": {},
   "outputs": [
    {
     "data": {
      "text/html": [
       "<div>\n",
       "<style scoped>\n",
       "    .dataframe tbody tr th:only-of-type {\n",
       "        vertical-align: middle;\n",
       "    }\n",
       "\n",
       "    .dataframe tbody tr th {\n",
       "        vertical-align: top;\n",
       "    }\n",
       "\n",
       "    .dataframe thead th {\n",
       "        text-align: right;\n",
       "    }\n",
       "</style>\n",
       "<table border=\"1\" class=\"dataframe\">\n",
       "  <thead>\n",
       "    <tr style=\"text-align: right;\">\n",
       "      <th></th>\n",
       "      <th>App</th>\n",
       "      <th>Category</th>\n",
       "      <th>Rating</th>\n",
       "      <th>Reviews</th>\n",
       "      <th>Size</th>\n",
       "      <th>Installs</th>\n",
       "      <th>Type</th>\n",
       "      <th>Price</th>\n",
       "      <th>Content Rating</th>\n",
       "      <th>Genre_1</th>\n",
       "      <th>Genre_2</th>\n",
       "      <th>Last Updated</th>\n",
       "      <th>Current Ver</th>\n",
       "      <th>Android Ver</th>\n",
       "    </tr>\n",
       "  </thead>\n",
       "  <tbody>\n",
       "    <tr>\n",
       "      <th>7402</th>\n",
       "      <td>Trovami Se Ci Riesci</td>\n",
       "      <td>GAME</td>\n",
       "      <td>5.0</td>\n",
       "      <td>11</td>\n",
       "      <td>6.10</td>\n",
       "      <td>10</td>\n",
       "      <td>Free</td>\n",
       "      <td>0.00</td>\n",
       "      <td>Everyone</td>\n",
       "      <td>Arcade</td>\n",
       "      <td>Not Applicable</td>\n",
       "      <td>2017-11-03</td>\n",
       "      <td>0.1</td>\n",
       "      <td>2.3 and up</td>\n",
       "    </tr>\n",
       "    <tr>\n",
       "      <th>6508</th>\n",
       "      <td>Sam.Bn Pro</td>\n",
       "      <td>TOOLS</td>\n",
       "      <td>0.0</td>\n",
       "      <td>11</td>\n",
       "      <td>2.00</td>\n",
       "      <td>10</td>\n",
       "      <td>Paid</td>\n",
       "      <td>0.99</td>\n",
       "      <td>Everyone</td>\n",
       "      <td>Tools</td>\n",
       "      <td>Not Applicable</td>\n",
       "      <td>2015-03-27</td>\n",
       "      <td>1.0.0</td>\n",
       "      <td>4.0.3 and up</td>\n",
       "    </tr>\n",
       "    <tr>\n",
       "      <th>4550</th>\n",
       "      <td>Rmedus - ????? ??? R ????? ?? ???</td>\n",
       "      <td>FAMILY</td>\n",
       "      <td>0.0</td>\n",
       "      <td>4</td>\n",
       "      <td>64.00</td>\n",
       "      <td>1</td>\n",
       "      <td>Free</td>\n",
       "      <td>0.00</td>\n",
       "      <td>Everyone</td>\n",
       "      <td>Education</td>\n",
       "      <td>Not Applicable</td>\n",
       "      <td>2018-07-17</td>\n",
       "      <td>1.0.1</td>\n",
       "      <td>4.4 and up</td>\n",
       "    </tr>\n",
       "    <tr>\n",
       "      <th>5917</th>\n",
       "      <td>Ra Ga Ba</td>\n",
       "      <td>GAME</td>\n",
       "      <td>5.0</td>\n",
       "      <td>2</td>\n",
       "      <td>20.00</td>\n",
       "      <td>1</td>\n",
       "      <td>Paid</td>\n",
       "      <td>1.49</td>\n",
       "      <td>Everyone</td>\n",
       "      <td>Arcade</td>\n",
       "      <td>Not Applicable</td>\n",
       "      <td>2017-08-02</td>\n",
       "      <td>1.0.4</td>\n",
       "      <td>2.3 and up</td>\n",
       "    </tr>\n",
       "    <tr>\n",
       "      <th>10697</th>\n",
       "      <td>Mu.F.O.</td>\n",
       "      <td>GAME</td>\n",
       "      <td>5.0</td>\n",
       "      <td>2</td>\n",
       "      <td>16.00</td>\n",
       "      <td>1</td>\n",
       "      <td>Paid</td>\n",
       "      <td>0.99</td>\n",
       "      <td>Everyone</td>\n",
       "      <td>Arcade</td>\n",
       "      <td>Not Applicable</td>\n",
       "      <td>2017-03-03</td>\n",
       "      <td>1</td>\n",
       "      <td>2.3 and up</td>\n",
       "    </tr>\n",
       "    <tr>\n",
       "      <th>2454</th>\n",
       "      <td>Kba-Ez Health Guide</td>\n",
       "      <td>MEDICAL</td>\n",
       "      <td>5.0</td>\n",
       "      <td>4</td>\n",
       "      <td>25.00</td>\n",
       "      <td>1</td>\n",
       "      <td>Free</td>\n",
       "      <td>0.00</td>\n",
       "      <td>Everyone</td>\n",
       "      <td>Medical</td>\n",
       "      <td>Not Applicable</td>\n",
       "      <td>2018-02-08</td>\n",
       "      <td>1.0.72</td>\n",
       "      <td>4.0.3 and up</td>\n",
       "    </tr>\n",
       "    <tr>\n",
       "      <th>9096</th>\n",
       "      <td>Dz Puzzle</td>\n",
       "      <td>FAMILY</td>\n",
       "      <td>0.0</td>\n",
       "      <td>14</td>\n",
       "      <td>47.00</td>\n",
       "      <td>10</td>\n",
       "      <td>Paid</td>\n",
       "      <td>0.99</td>\n",
       "      <td>Everyone</td>\n",
       "      <td>Puzzle</td>\n",
       "      <td>Not Applicable</td>\n",
       "      <td>2017-04-22</td>\n",
       "      <td>1.2</td>\n",
       "      <td>2.3 and up</td>\n",
       "    </tr>\n",
       "    <tr>\n",
       "      <th>8591</th>\n",
       "      <td>Dn Blog</td>\n",
       "      <td>SOCIAL</td>\n",
       "      <td>5.0</td>\n",
       "      <td>20</td>\n",
       "      <td>4.20</td>\n",
       "      <td>10</td>\n",
       "      <td>Free</td>\n",
       "      <td>0.00</td>\n",
       "      <td>Teen</td>\n",
       "      <td>Social</td>\n",
       "      <td>Not Applicable</td>\n",
       "      <td>2018-07-23</td>\n",
       "      <td>1</td>\n",
       "      <td>4.0 and up</td>\n",
       "    </tr>\n",
       "    <tr>\n",
       "      <th>6700</th>\n",
       "      <td>Brick Breaker Br</td>\n",
       "      <td>GAME</td>\n",
       "      <td>5.0</td>\n",
       "      <td>7</td>\n",
       "      <td>19.00</td>\n",
       "      <td>5</td>\n",
       "      <td>Free</td>\n",
       "      <td>0.00</td>\n",
       "      <td>Everyone</td>\n",
       "      <td>Arcade</td>\n",
       "      <td>Not Applicable</td>\n",
       "      <td>2018-07-23</td>\n",
       "      <td>1</td>\n",
       "      <td>4.1 and up</td>\n",
       "    </tr>\n",
       "    <tr>\n",
       "      <th>5812</th>\n",
       "      <td>Ax Watch For Watchmaker</td>\n",
       "      <td>PERSONALIZATION</td>\n",
       "      <td>0.0</td>\n",
       "      <td>2</td>\n",
       "      <td>0.23</td>\n",
       "      <td>1</td>\n",
       "      <td>Paid</td>\n",
       "      <td>0.99</td>\n",
       "      <td>Everyone</td>\n",
       "      <td>Personalization</td>\n",
       "      <td>Not Applicable</td>\n",
       "      <td>2017-08-18</td>\n",
       "      <td>1</td>\n",
       "      <td>2.3 and up</td>\n",
       "    </tr>\n",
       "    <tr>\n",
       "      <th>4663</th>\n",
       "      <td>Alarmy (Sleep If U Can) - Pro</td>\n",
       "      <td>LIFESTYLE</td>\n",
       "      <td>4.8</td>\n",
       "      <td>10249</td>\n",
       "      <td>0.00</td>\n",
       "      <td>10000</td>\n",
       "      <td>Paid</td>\n",
       "      <td>2.49</td>\n",
       "      <td>Everyone</td>\n",
       "      <td>Lifestyle</td>\n",
       "      <td>Not Applicable</td>\n",
       "      <td>2018-07-30</td>\n",
       "      <td>Varies with device</td>\n",
       "      <td>Varies with device</td>\n",
       "    </tr>\n",
       "  </tbody>\n",
       "</table>\n",
       "</div>"
      ],
      "text/plain": [
       "                                     App         Category  Rating  Reviews  \\\n",
       "7402                Trovami Se Ci Riesci             GAME     5.0       11   \n",
       "6508                          Sam.Bn Pro            TOOLS     0.0       11   \n",
       "4550   Rmedus - ????? ??? R ????? ?? ???           FAMILY     0.0        4   \n",
       "5917                            Ra Ga Ba             GAME     5.0        2   \n",
       "10697                            Mu.F.O.             GAME     5.0        2   \n",
       "2454                 Kba-Ez Health Guide          MEDICAL     5.0        4   \n",
       "9096                           Dz Puzzle           FAMILY     0.0       14   \n",
       "8591                             Dn Blog           SOCIAL     5.0       20   \n",
       "6700                    Brick Breaker Br             GAME     5.0        7   \n",
       "5812             Ax Watch For Watchmaker  PERSONALIZATION     0.0        2   \n",
       "4663       Alarmy (Sleep If U Can) - Pro        LIFESTYLE     4.8    10249   \n",
       "\n",
       "        Size  Installs  Type  Price Content Rating          Genre_1  \\\n",
       "7402    6.10        10  Free   0.00       Everyone           Arcade   \n",
       "6508    2.00        10  Paid   0.99       Everyone            Tools   \n",
       "4550   64.00         1  Free   0.00       Everyone        Education   \n",
       "5917   20.00         1  Paid   1.49       Everyone           Arcade   \n",
       "10697  16.00         1  Paid   0.99       Everyone           Arcade   \n",
       "2454   25.00         1  Free   0.00       Everyone          Medical   \n",
       "9096   47.00        10  Paid   0.99       Everyone           Puzzle   \n",
       "8591    4.20        10  Free   0.00           Teen           Social   \n",
       "6700   19.00         5  Free   0.00       Everyone           Arcade   \n",
       "5812    0.23         1  Paid   0.99       Everyone  Personalization   \n",
       "4663    0.00     10000  Paid   2.49       Everyone        Lifestyle   \n",
       "\n",
       "              Genre_2 Last Updated         Current Ver         Android Ver  \n",
       "7402   Not Applicable   2017-11-03                 0.1          2.3 and up  \n",
       "6508   Not Applicable   2015-03-27               1.0.0        4.0.3 and up  \n",
       "4550   Not Applicable   2018-07-17               1.0.1          4.4 and up  \n",
       "5917   Not Applicable   2017-08-02               1.0.4          2.3 and up  \n",
       "10697  Not Applicable   2017-03-03                   1          2.3 and up  \n",
       "2454   Not Applicable   2018-02-08              1.0.72        4.0.3 and up  \n",
       "9096   Not Applicable   2017-04-22                 1.2          2.3 and up  \n",
       "8591   Not Applicable   2018-07-23                   1          4.0 and up  \n",
       "6700   Not Applicable   2018-07-23                   1          4.1 and up  \n",
       "5812   Not Applicable   2017-08-18                   1          2.3 and up  \n",
       "4663   Not Applicable   2018-07-30  Varies with device  Varies with device  "
      ]
     },
     "execution_count": 99,
     "metadata": {},
     "output_type": "execute_result"
    }
   ],
   "source": [
    "# looking for records where Reviews for an app are greater than Installs\n",
    "\n",
    "apps[apps['Reviews']>apps['Installs']]"
   ]
  },
  {
   "cell_type": "code",
   "execution_count": 100,
   "id": "8a650d46",
   "metadata": {},
   "outputs": [
    {
     "data": {
      "text/plain": [
       "(11, 14)"
      ]
     },
     "execution_count": 100,
     "metadata": {},
     "output_type": "execute_result"
    }
   ],
   "source": [
    "# no. of records\n",
    "apps[apps['Reviews']>apps['Installs']].shape"
   ]
  },
  {
   "cell_type": "markdown",
   "id": "e9058ea2",
   "metadata": {},
   "source": [
    "##### Observation:\n",
    "\n",
    "- There are 11 records where Reviews are greater than Installs which is `not an ideal case`, hence we'll be storing only those records where `Reviews are less than or equal to Installs`.   "
   ]
  },
  {
   "cell_type": "code",
   "execution_count": 101,
   "id": "9b7276c4",
   "metadata": {},
   "outputs": [],
   "source": [
    "# Storing only those records where Reviews for an app are less than or equal to (<=) Installs\n",
    "\n",
    "apps = apps[apps['Reviews']<= apps['Installs']]"
   ]
  },
  {
   "cell_type": "code",
   "execution_count": 102,
   "id": "d7812f56",
   "metadata": {},
   "outputs": [
    {
     "data": {
      "text/plain": [
       "(0, 14)"
      ]
     },
     "execution_count": 102,
     "metadata": {},
     "output_type": "execute_result"
    }
   ],
   "source": [
    "# Cross- checking for apps where Reviews are greater than Installs\n",
    "\n",
    "apps[apps['Reviews']>apps['Installs']].shape"
   ]
  },
  {
   "cell_type": "markdown",
   "id": "bd6d53d6",
   "metadata": {},
   "source": [
    "**3) Free apps should not be priced**"
   ]
  },
  {
   "cell_type": "code",
   "execution_count": 103,
   "id": "f0f67381",
   "metadata": {},
   "outputs": [
    {
     "data": {
      "text/html": [
       "<div>\n",
       "<style scoped>\n",
       "    .dataframe tbody tr th:only-of-type {\n",
       "        vertical-align: middle;\n",
       "    }\n",
       "\n",
       "    .dataframe tbody tr th {\n",
       "        vertical-align: top;\n",
       "    }\n",
       "\n",
       "    .dataframe thead th {\n",
       "        text-align: right;\n",
       "    }\n",
       "</style>\n",
       "<table border=\"1\" class=\"dataframe\">\n",
       "  <thead>\n",
       "    <tr style=\"text-align: right;\">\n",
       "      <th></th>\n",
       "      <th>App</th>\n",
       "      <th>Category</th>\n",
       "      <th>Rating</th>\n",
       "      <th>Reviews</th>\n",
       "      <th>Size</th>\n",
       "      <th>Installs</th>\n",
       "      <th>Type</th>\n",
       "      <th>Price</th>\n",
       "      <th>Content Rating</th>\n",
       "      <th>Genre_1</th>\n",
       "      <th>Genre_2</th>\n",
       "      <th>Last Updated</th>\n",
       "      <th>Current Ver</th>\n",
       "      <th>Android Ver</th>\n",
       "    </tr>\n",
       "  </thead>\n",
       "  <tbody>\n",
       "  </tbody>\n",
       "</table>\n",
       "</div>"
      ],
      "text/plain": [
       "Empty DataFrame\n",
       "Columns: [App, Category, Rating, Reviews, Size, Installs, Type, Price, Content Rating, Genre_1, Genre_2, Last Updated, Current Ver, Android Ver]\n",
       "Index: []"
      ]
     },
     "execution_count": 103,
     "metadata": {},
     "output_type": "execute_result"
    }
   ],
   "source": [
    "# Looking for records where Free apps that are Priced/Charged\n",
    "\n",
    "apps[(apps['Type']=='Free') & (apps['Price']>0)]"
   ]
  },
  {
   "cell_type": "code",
   "execution_count": 104,
   "id": "16a1bd41",
   "metadata": {},
   "outputs": [
    {
     "data": {
      "text/plain": [
       "(0, 14)"
      ]
     },
     "execution_count": 104,
     "metadata": {},
     "output_type": "execute_result"
    }
   ],
   "source": [
    "# Looking at number of records where ree apps that are Priced/Charged\n",
    "\n",
    "apps[(apps['Type']=='Free') & (apps['Price']>0)].shape"
   ]
  },
  {
   "cell_type": "markdown",
   "id": "b0fab330",
   "metadata": {},
   "source": [
    "###### Observation:\n",
    "\n",
    "- No Free App has been charged, thus fulfilling our condition."
   ]
  },
  {
   "cell_type": "markdown",
   "id": "73acd334",
   "metadata": {},
   "source": [
    "- `All the Sanctity checks has been well performed`.\n",
    "\n",
    "___"
   ]
  },
  {
   "cell_type": "markdown",
   "id": "698dc917",
   "metadata": {},
   "source": [
    "### Final checks:"
   ]
  },
  {
   "cell_type": "code",
   "execution_count": 105,
   "id": "83616c0e",
   "metadata": {},
   "outputs": [
    {
     "name": "stdout",
     "output_type": "stream",
     "text": [
      "<class 'pandas.core.frame.DataFrame'>\n",
      "Int64Index: 9626 entries, 8133 to 8884\n",
      "Data columns (total 14 columns):\n",
      " #   Column          Non-Null Count  Dtype         \n",
      "---  ------          --------------  -----         \n",
      " 0   App             9626 non-null   object        \n",
      " 1   Category        9626 non-null   object        \n",
      " 2   Rating          9626 non-null   float64       \n",
      " 3   Reviews         9626 non-null   int32         \n",
      " 4   Size            9626 non-null   float32       \n",
      " 5   Installs        9626 non-null   int32         \n",
      " 6   Type            9626 non-null   object        \n",
      " 7   Price           9626 non-null   float32       \n",
      " 8   Content Rating  9626 non-null   object        \n",
      " 9   Genre_1         9626 non-null   object        \n",
      " 10  Genre_2         9626 non-null   object        \n",
      " 11  Last Updated    9626 non-null   datetime64[ns]\n",
      " 12  Current Ver     9626 non-null   object        \n",
      " 13  Android Ver     9626 non-null   object        \n",
      "dtypes: datetime64[ns](1), float32(2), float64(1), int32(2), object(8)\n",
      "memory usage: 977.6+ KB\n"
     ]
    }
   ],
   "source": [
    "# Looking at information of apps dataset\n",
    "\n",
    "apps.info()"
   ]
  },
  {
   "cell_type": "code",
   "execution_count": 106,
   "id": "299769c8",
   "metadata": {},
   "outputs": [
    {
     "data": {
      "text/plain": [
       "App               9626\n",
       "Category            33\n",
       "Rating              40\n",
       "Reviews           5329\n",
       "Size               274\n",
       "Installs            20\n",
       "Type                 2\n",
       "Price               90\n",
       "Content Rating       6\n",
       "Genre_1             48\n",
       "Genre_2              7\n",
       "Last Updated      1377\n",
       "Current Ver       2770\n",
       "Android Ver         34\n",
       "dtype: int64"
      ]
     },
     "execution_count": 106,
     "metadata": {},
     "output_type": "execute_result"
    }
   ],
   "source": [
    "# Looking at the number of unique values for each column in apps dataset\n",
    "\n",
    "apps.nunique()"
   ]
  },
  {
   "cell_type": "markdown",
   "id": "57adc569",
   "metadata": {},
   "source": [
    "___"
   ]
  },
  {
   "cell_type": "markdown",
   "id": "c949eac2",
   "metadata": {},
   "source": [
    "## Reviews Dataset"
   ]
  },
  {
   "cell_type": "code",
   "execution_count": 107,
   "id": "8f3def9f",
   "metadata": {},
   "outputs": [
    {
     "data": {
      "text/html": [
       "<div>\n",
       "<style scoped>\n",
       "    .dataframe tbody tr th:only-of-type {\n",
       "        vertical-align: middle;\n",
       "    }\n",
       "\n",
       "    .dataframe tbody tr th {\n",
       "        vertical-align: top;\n",
       "    }\n",
       "\n",
       "    .dataframe thead th {\n",
       "        text-align: right;\n",
       "    }\n",
       "</style>\n",
       "<table border=\"1\" class=\"dataframe\">\n",
       "  <thead>\n",
       "    <tr style=\"text-align: right;\">\n",
       "      <th></th>\n",
       "      <th>App</th>\n",
       "      <th>Translated_Review</th>\n",
       "      <th>Sentiment</th>\n",
       "      <th>Sentiment_Polarity</th>\n",
       "      <th>Sentiment_Subjectivity</th>\n",
       "    </tr>\n",
       "  </thead>\n",
       "  <tbody>\n",
       "    <tr>\n",
       "      <th>0</th>\n",
       "      <td>10 Best Foods for You</td>\n",
       "      <td>I like eat delicious food. That's I'm cooking ...</td>\n",
       "      <td>Positive</td>\n",
       "      <td>1.00</td>\n",
       "      <td>0.533333</td>\n",
       "    </tr>\n",
       "    <tr>\n",
       "      <th>1</th>\n",
       "      <td>10 Best Foods for You</td>\n",
       "      <td>This help eating healthy exercise regular basis</td>\n",
       "      <td>Positive</td>\n",
       "      <td>0.25</td>\n",
       "      <td>0.288462</td>\n",
       "    </tr>\n",
       "    <tr>\n",
       "      <th>2</th>\n",
       "      <td>10 Best Foods for You</td>\n",
       "      <td>NaN</td>\n",
       "      <td>NaN</td>\n",
       "      <td>NaN</td>\n",
       "      <td>NaN</td>\n",
       "    </tr>\n",
       "    <tr>\n",
       "      <th>3</th>\n",
       "      <td>10 Best Foods for You</td>\n",
       "      <td>Works great especially going grocery store</td>\n",
       "      <td>Positive</td>\n",
       "      <td>0.40</td>\n",
       "      <td>0.875000</td>\n",
       "    </tr>\n",
       "    <tr>\n",
       "      <th>4</th>\n",
       "      <td>10 Best Foods for You</td>\n",
       "      <td>Best idea us</td>\n",
       "      <td>Positive</td>\n",
       "      <td>1.00</td>\n",
       "      <td>0.300000</td>\n",
       "    </tr>\n",
       "  </tbody>\n",
       "</table>\n",
       "</div>"
      ],
      "text/plain": [
       "                     App                                  Translated_Review  \\\n",
       "0  10 Best Foods for You  I like eat delicious food. That's I'm cooking ...   \n",
       "1  10 Best Foods for You    This help eating healthy exercise regular basis   \n",
       "2  10 Best Foods for You                                                NaN   \n",
       "3  10 Best Foods for You         Works great especially going grocery store   \n",
       "4  10 Best Foods for You                                       Best idea us   \n",
       "\n",
       "  Sentiment  Sentiment_Polarity  Sentiment_Subjectivity  \n",
       "0  Positive                1.00                0.533333  \n",
       "1  Positive                0.25                0.288462  \n",
       "2       NaN                 NaN                     NaN  \n",
       "3  Positive                0.40                0.875000  \n",
       "4  Positive                1.00                0.300000  "
      ]
     },
     "execution_count": 107,
     "metadata": {},
     "output_type": "execute_result"
    }
   ],
   "source": [
    "# Looking at top 5 rows\n",
    "\n",
    "reviews.head()"
   ]
  },
  {
   "cell_type": "code",
   "execution_count": 108,
   "id": "bddb08a9",
   "metadata": {},
   "outputs": [
    {
     "name": "stdout",
     "output_type": "stream",
     "text": [
      "<class 'pandas.core.frame.DataFrame'>\n",
      "RangeIndex: 64295 entries, 0 to 64294\n",
      "Data columns (total 5 columns):\n",
      " #   Column                  Non-Null Count  Dtype  \n",
      "---  ------                  --------------  -----  \n",
      " 0   App                     64295 non-null  object \n",
      " 1   Translated_Review       37427 non-null  object \n",
      " 2   Sentiment               37432 non-null  object \n",
      " 3   Sentiment_Polarity      37432 non-null  float64\n",
      " 4   Sentiment_Subjectivity  37432 non-null  float64\n",
      "dtypes: float64(2), object(3)\n",
      "memory usage: 2.5+ MB\n"
     ]
    }
   ],
   "source": [
    "# Looking at information of reviews dataset\n",
    "\n",
    "reviews.info()"
   ]
  },
  {
   "cell_type": "code",
   "execution_count": 109,
   "id": "500428ea",
   "metadata": {},
   "outputs": [
    {
     "data": {
      "text/plain": [
       "(64295, 5)"
      ]
     },
     "execution_count": 109,
     "metadata": {},
     "output_type": "execute_result"
    }
   ],
   "source": [
    "# Looking at dimension of the dataset\n",
    "\n",
    "reviews.shape"
   ]
  },
  {
   "cell_type": "code",
   "execution_count": 110,
   "id": "240497f0",
   "metadata": {},
   "outputs": [
    {
     "data": {
      "text/plain": [
       "33616"
      ]
     },
     "execution_count": 110,
     "metadata": {},
     "output_type": "execute_result"
    }
   ],
   "source": [
    "# looking for duplicate vaules\n",
    "\n",
    "reviews.duplicated().sum()"
   ]
  },
  {
   "cell_type": "markdown",
   "id": "645c3c6b",
   "metadata": {},
   "source": [
    "- Not removing duplicates as a single app can have multiple reviews thus multiple entry of the same app."
   ]
  },
  {
   "cell_type": "code",
   "execution_count": 111,
   "id": "6a6e0235",
   "metadata": {},
   "outputs": [
    {
     "data": {
      "text/plain": [
       "App                           0\n",
       "Translated_Review         26868\n",
       "Sentiment                 26863\n",
       "Sentiment_Polarity        26863\n",
       "Sentiment_Subjectivity    26863\n",
       "dtype: int64"
      ]
     },
     "execution_count": 111,
     "metadata": {},
     "output_type": "execute_result"
    }
   ],
   "source": [
    "# looking for null values\n",
    "\n",
    "reviews.isnull().sum()"
   ]
  },
  {
   "cell_type": "code",
   "execution_count": 112,
   "id": "cf3fe9c4",
   "metadata": {},
   "outputs": [
    {
     "data": {
      "text/plain": [
       "App                        1074\n",
       "Translated_Review         27994\n",
       "Sentiment                     3\n",
       "Sentiment_Polarity         5410\n",
       "Sentiment_Subjectivity     4474\n",
       "dtype: int64"
      ]
     },
     "execution_count": 112,
     "metadata": {},
     "output_type": "execute_result"
    }
   ],
   "source": [
    "# Looking at number of unique values present in each column of reviews dataset \n",
    "\n",
    "reviews.nunique()"
   ]
  },
  {
   "cell_type": "markdown",
   "id": "f766a1be",
   "metadata": {},
   "source": [
    "**App Column**"
   ]
  },
  {
   "cell_type": "code",
   "execution_count": 113,
   "id": "edf6f6b4",
   "metadata": {},
   "outputs": [
    {
     "data": {
      "text/plain": [
       "array(['10 Best Foods for You', '104 找工作 - 找工作 找打工 找兼職 履歷健檢 履歷診療室',\n",
       "       '11st', ..., 'Hotwire Hotel & Car Rental App',\n",
       "       'Housing-Real Estate & Property', 'Houzz Interior Design Ideas'],\n",
       "      dtype=object)"
      ]
     },
     "execution_count": 113,
     "metadata": {},
     "output_type": "execute_result"
    }
   ],
   "source": [
    "# Looking at unique values\n",
    "\n",
    "reviews['App'].unique()"
   ]
  },
  {
   "cell_type": "code",
   "execution_count": 114,
   "id": "88a5f8df",
   "metadata": {},
   "outputs": [
    {
     "data": {
      "text/plain": [
       "Bowmasters                                           320\n",
       "Angry Birds Classic                                  320\n",
       "CBS Sports App - Scores, News, Stats & Watch Live    320\n",
       "Helix Jump                                           300\n",
       "8 Ball Pool                                          300\n",
       "                                                    ... \n",
       "Easy Healthy Recipes                                  31\n",
       "Dresses Ideas & Fashions +3000                        31\n",
       "Detector de Radares Gratis                            31\n",
       "Drawing Clothes Fashion Ideas                         30\n",
       "Easy Hair Style Design                                30\n",
       "Name: App, Length: 1074, dtype: int64"
      ]
     },
     "execution_count": 114,
     "metadata": {},
     "output_type": "execute_result"
    }
   ],
   "source": [
    "# Lookig at counts of sub-type of App column\n",
    "\n",
    "reviews['App'].value_counts()"
   ]
  },
  {
   "cell_type": "markdown",
   "id": "88b2e734",
   "metadata": {},
   "source": [
    "**Translated_Review column**"
   ]
  },
  {
   "cell_type": "code",
   "execution_count": 115,
   "id": "fb3f7758",
   "metadata": {},
   "outputs": [],
   "source": [
    "# Removing all the rows with null values as they would not help in analysis\n",
    "\n",
    "reviews = reviews[~reviews['Translated_Review'].isnull()]"
   ]
  },
  {
   "cell_type": "code",
   "execution_count": 116,
   "id": "4b15eab9",
   "metadata": {},
   "outputs": [
    {
     "data": {
      "text/plain": [
       "0"
      ]
     },
     "execution_count": 116,
     "metadata": {},
     "output_type": "execute_result"
    }
   ],
   "source": [
    "# Cross - checking for null values\n",
    "\n",
    "reviews['Translated_Review'].isnull().sum()"
   ]
  },
  {
   "cell_type": "code",
   "execution_count": 117,
   "id": "c7980a74",
   "metadata": {},
   "outputs": [
    {
     "data": {
      "text/plain": [
       "array(['I like eat delicious food. That\\'s I\\'m cooking food myself, case \"10 Best Foods\" helps lot, also \"Best Before (Shelf Life)\"',\n",
       "       'This help eating healthy exercise regular basis',\n",
       "       'Works great especially going grocery store', ...,\n",
       "       'Dumb app, I wanted post property rent give option. Website work. Waste time space phone.',\n",
       "       'I property business got link SMS happy performance still guys need raise bar guys Cheers',\n",
       "       'Useless app, I searched flats kondapur, Hyderabad . None number reachable I know flats unavailable would keep posts active'],\n",
       "      dtype=object)"
      ]
     },
     "execution_count": 117,
     "metadata": {},
     "output_type": "execute_result"
    }
   ],
   "source": [
    "# Lookig at unique values\n",
    "\n",
    "reviews['Translated_Review'].unique()"
   ]
  },
  {
   "cell_type": "markdown",
   "id": "ac3daea3",
   "metadata": {},
   "source": [
    "**Sentiment column**"
   ]
  },
  {
   "cell_type": "code",
   "execution_count": 118,
   "id": "dd97dec7",
   "metadata": {},
   "outputs": [
    {
     "data": {
      "text/plain": [
       "0"
      ]
     },
     "execution_count": 118,
     "metadata": {},
     "output_type": "execute_result"
    }
   ],
   "source": [
    "# Looking for null values\n",
    "\n",
    "reviews['Sentiment'].isnull().sum()"
   ]
  },
  {
   "cell_type": "code",
   "execution_count": 119,
   "id": "bedf3ab0",
   "metadata": {},
   "outputs": [
    {
     "data": {
      "text/plain": [
       "array(['Positive', 'Neutral', 'Negative'], dtype=object)"
      ]
     },
     "execution_count": 119,
     "metadata": {},
     "output_type": "execute_result"
    }
   ],
   "source": [
    "# Looking at unique values\n",
    "\n",
    "reviews['Sentiment'].unique()"
   ]
  },
  {
   "cell_type": "code",
   "execution_count": 120,
   "id": "da66fdc8",
   "metadata": {},
   "outputs": [
    {
     "data": {
      "text/plain": [
       "Positive    23998\n",
       "Negative     8271\n",
       "Neutral      5158\n",
       "Name: Sentiment, dtype: int64"
      ]
     },
     "execution_count": 120,
     "metadata": {},
     "output_type": "execute_result"
    }
   ],
   "source": [
    "# Looking at counts of sub-type of Sentiment column\n",
    "\n",
    "reviews['Sentiment'].value_counts()"
   ]
  },
  {
   "cell_type": "markdown",
   "id": "79a250c9",
   "metadata": {},
   "source": [
    "**Sentiment_Polarity column**"
   ]
  },
  {
   "cell_type": "code",
   "execution_count": 121,
   "id": "71fe42d1",
   "metadata": {},
   "outputs": [
    {
     "data": {
      "text/plain": [
       "0"
      ]
     },
     "execution_count": 121,
     "metadata": {},
     "output_type": "execute_result"
    }
   ],
   "source": [
    "# looking for null values\n",
    "\n",
    "reviews['Sentiment_Polarity'].isnull().sum()"
   ]
  },
  {
   "cell_type": "code",
   "execution_count": 122,
   "id": "f879363e",
   "metadata": {},
   "outputs": [
    {
     "data": {
      "text/plain": [
       "array([ 1.        ,  0.25      ,  0.4       , ..., -0.52857143,\n",
       "       -0.37777778,  0.17333333])"
      ]
     },
     "execution_count": 122,
     "metadata": {},
     "output_type": "execute_result"
    }
   ],
   "source": [
    "# Looking for unique values\n",
    "\n",
    "reviews['Sentiment_Polarity'].unique()"
   ]
  },
  {
   "cell_type": "code",
   "execution_count": 123,
   "id": "11cb8099",
   "metadata": {},
   "outputs": [],
   "source": [
    "# Rounding the values to 3 decimal digits\n",
    "\n",
    "reviews['Sentiment_Polarity'] = np.round(reviews['Sentiment_Polarity'], 3)"
   ]
  },
  {
   "cell_type": "code",
   "execution_count": 124,
   "id": "cb429585",
   "metadata": {},
   "outputs": [
    {
     "data": {
      "text/plain": [
       "array([ 1.   ,  0.25 ,  0.4  , ...,  0.593, -0.988, -0.529])"
      ]
     },
     "execution_count": 124,
     "metadata": {},
     "output_type": "execute_result"
    }
   ],
   "source": [
    "# Cross-checking the unique values\n",
    "\n",
    "reviews['Sentiment_Polarity'].unique()"
   ]
  },
  {
   "cell_type": "code",
   "execution_count": 125,
   "id": "f888ad81",
   "metadata": {},
   "outputs": [
    {
     "data": {
      "text/plain": [
       "count    37427.000000\n",
       "mean         0.182166\n",
       "std          0.351319\n",
       "min         -1.000000\n",
       "25%          0.000000\n",
       "50%          0.150000\n",
       "75%          0.400000\n",
       "max          1.000000\n",
       "Name: Sentiment_Polarity, dtype: float64"
      ]
     },
     "execution_count": 125,
     "metadata": {},
     "output_type": "execute_result"
    }
   ],
   "source": [
    "# Looking at the description of Sentiment_Polarity column\n",
    "\n",
    "reviews['Sentiment_Polarity'].describe()"
   ]
  },
  {
   "cell_type": "markdown",
   "id": "6f01be19",
   "metadata": {},
   "source": [
    "**Sentiment_Subjectivity column**"
   ]
  },
  {
   "cell_type": "code",
   "execution_count": 126,
   "id": "99a15420",
   "metadata": {},
   "outputs": [
    {
     "data": {
      "text/plain": [
       "0"
      ]
     },
     "execution_count": 126,
     "metadata": {},
     "output_type": "execute_result"
    }
   ],
   "source": [
    "# looking for null values\n",
    "\n",
    "reviews['Sentiment_Subjectivity'].isnull().sum()"
   ]
  },
  {
   "cell_type": "code",
   "execution_count": 127,
   "id": "43ca3837",
   "metadata": {},
   "outputs": [
    {
     "data": {
      "text/plain": [
       "array([0.53333333, 0.28846154, 0.875     , ..., 0.51145833, 0.7172619 ,\n",
       "       0.2594697 ])"
      ]
     },
     "execution_count": 127,
     "metadata": {},
     "output_type": "execute_result"
    }
   ],
   "source": [
    "# Looking for unique values\n",
    "\n",
    "reviews['Sentiment_Subjectivity'].unique()"
   ]
  },
  {
   "cell_type": "code",
   "execution_count": 128,
   "id": "8851ea2d",
   "metadata": {},
   "outputs": [],
   "source": [
    "# Rounding the values to 3 decimal digits\n",
    "\n",
    "reviews['Sentiment_Subjectivity'] = np.round(reviews['Sentiment_Subjectivity'], 3)"
   ]
  },
  {
   "cell_type": "code",
   "execution_count": 129,
   "id": "db66f05b",
   "metadata": {},
   "outputs": [
    {
     "data": {
      "text/plain": [
       "array([0.533, 0.288, 0.875, 0.3  , 0.9  , 0.   , 0.6  , 0.1  , 0.867,\n",
       "       0.511, 1.   , 0.667, 0.8  , 0.35 , 0.5  , 0.69 , 0.2  , 0.75 ,\n",
       "       0.675, 0.356, 0.55 , 0.15 , 0.412, 0.525, 0.65 , 0.833, 0.467,\n",
       "       0.367, 0.597, 0.45 , 0.735, 0.475, 0.4  , 0.683, 0.286, 0.622,\n",
       "       0.78 , 0.717, 0.25 , 0.275, 0.633, 0.587, 0.143, 0.767, 0.739,\n",
       "       0.302, 0.364, 0.05 , 0.455, 0.375, 0.478, 0.458, 0.536, 0.333,\n",
       "       0.562, 0.324, 0.417, 0.775, 0.917, 0.542, 0.357, 0.792, 0.067,\n",
       "       0.644, 0.7  , 0.517, 0.706, 0.648, 0.579, 0.479, 0.594, 0.378,\n",
       "       0.705, 0.506, 0.575, 0.52 , 0.975, 0.572, 0.192, 0.697, 0.688,\n",
       "       0.558, 0.85 , 0.513, 0.625, 0.401, 0.436, 0.42 , 0.581, 0.322,\n",
       "       0.469, 0.425, 0.41 , 0.544, 0.368, 0.599, 0.607, 0.749, 0.555,\n",
       "       0.564, 0.326, 0.418, 0.585, 0.653, 0.521, 0.651, 0.92 , 0.771,\n",
       "       0.578, 0.737, 0.708, 0.637, 0.258, 0.583, 0.397, 0.718, 0.371,\n",
       "       0.48 , 0.568, 0.249, 0.758, 0.61 , 0.483, 0.502, 0.733, 0.489,\n",
       "       0.889, 0.54 , 0.496, 0.725, 0.372, 0.493, 0.495, 0.447, 0.802,\n",
       "       0.312, 0.677, 0.778, 0.488, 0.379, 0.453, 0.883, 0.586, 0.317,\n",
       "       0.763, 0.539, 0.679, 0.406, 0.212, 0.494, 0.507, 0.685, 0.519,\n",
       "       0.528, 0.712, 0.72 , 0.66 , 0.522, 0.689, 0.56 , 0.49 , 0.711,\n",
       "       0.413, 0.699, 0.396, 0.584, 0.332, 0.224, 0.314, 0.462, 0.742,\n",
       "       0.47 , 0.497, 0.505, 0.696, 0.323, 0.553, 0.51 , 0.245, 0.267,\n",
       "       0.419, 0.383, 0.481, 0.729, 0.255, 0.561, 0.439, 0.707, 0.328,\n",
       "       0.556, 0.491, 0.681, 0.451, 0.247, 0.283, 0.405, 0.422, 0.445,\n",
       "       0.287, 0.672, 0.577, 0.38 , 0.658, 0.429, 0.433, 0.611, 0.325,\n",
       "       0.508, 0.46 , 0.662, 0.621, 0.461, 0.74 , 0.446, 0.442, 0.547,\n",
       "       0.593, 0.788, 0.933, 0.643, 0.852, 0.772, 0.62 , 0.635, 0.571,\n",
       "       0.812, 0.426, 0.321, 0.339, 0.514, 0.87 , 0.567, 0.657, 0.403,\n",
       "       0.472, 0.554, 0.338, 0.928, 0.398, 0.617, 0.444, 0.574, 0.64 ,\n",
       "       0.71 , 0.612, 0.783, 0.499, 0.512, 0.605, 0.457, 0.361, 0.362,\n",
       "       0.463, 0.664, 0.847, 0.807, 0.604, 0.678, 0.627, 0.292, 0.773,\n",
       "       0.595, 0.546, 0.492, 0.738, 0.756, 0.647, 0.768, 0.79 , 0.859,\n",
       "       0.588, 0.861, 0.656, 0.131, 0.484, 0.204, 0.348, 0.606, 0.608,\n",
       "       0.694, 0.454, 0.217, 0.59 , 0.532, 0.641, 0.618, 0.36 , 0.075,\n",
       "       0.727, 0.062, 0.407, 0.106, 0.665, 0.669, 0.219, 0.487, 0.598,\n",
       "       0.235, 0.088, 0.263, 0.538, 0.411, 0.477, 0.448, 0.673, 0.438,\n",
       "       0.389, 0.276, 0.537, 0.282, 0.603, 0.404, 0.435, 0.365, 0.392,\n",
       "       0.303, 0.315, 0.443, 0.485, 0.504, 0.552, 0.373, 0.747, 0.271,\n",
       "       0.523, 0.033, 0.95 , 0.167, 0.565, 0.828, 0.498, 0.746, 0.614,\n",
       "       0.798, 0.344, 0.133, 0.728, 0.722, 0.63 , 0.631, 0.218, 0.207,\n",
       "       0.44 , 0.944, 0.482, 0.34 , 0.353, 0.188, 0.427, 0.642, 0.381,\n",
       "       0.652, 0.619, 0.377, 0.736, 0.582, 0.67 , 0.516, 0.31 , 0.308,\n",
       "       0.764, 0.281, 0.613, 0.709, 0.638, 0.152, 0.121, 0.125, 0.476,\n",
       "       0.162, 0.391, 0.334, 0.817, 0.503, 0.341, 0.684, 0.311, 0.421,\n",
       "       0.414, 0.432, 0.557, 0.351, 0.545, 0.53 , 0.58 , 0.331, 0.654,\n",
       "       0.208, 0.233, 0.811, 0.394, 0.346, 0.18 , 0.645, 0.305, 0.26 ,\n",
       "       0.524, 0.576, 0.253, 0.719, 0.592, 0.897, 0.441, 0.751, 0.264,\n",
       "       0.543, 0.156, 0.535, 0.369, 0.342, 0.744, 0.28 , 0.548, 0.296,\n",
       "       0.395, 0.703, 0.615, 0.43 , 0.596, 0.297, 0.501, 0.769, 0.161,\n",
       "       0.39 , 0.752, 0.692, 0.518, 0.569, 0.189, 0.183, 0.796, 0.386,\n",
       "       0.222, 0.698, 0.37 , 0.382, 0.289, 0.529, 0.661, 0.175, 0.704,\n",
       "       0.221, 0.388, 0.408, 0.254, 0.559, 0.385, 0.464, 0.318, 0.319,\n",
       "       0.573, 0.358, 0.313, 0.609, 0.702, 0.77 , 0.602, 0.714, 0.527,\n",
       "       0.058, 0.285, 0.225, 0.531, 0.468, 0.715, 0.967, 0.825, 0.179,\n",
       "       0.695, 0.181, 0.452, 0.409, 0.57 , 0.244, 0.601, 0.781, 0.261,\n",
       "       0.509, 0.634, 0.347, 0.808, 0.27 , 0.646, 0.473, 0.84 , 0.844,\n",
       "       0.786, 0.071, 0.384, 0.551, 0.471, 0.549, 0.515, 0.526, 0.215,\n",
       "       0.676, 0.486, 0.563, 0.359, 0.097, 0.424, 0.327, 0.262, 0.423,\n",
       "       0.639, 0.187, 0.195, 0.88 , 0.202, 0.266, 0.663, 0.402, 0.345,\n",
       "       0.343, 0.73 , 0.374, 0.589, 0.624, 0.354, 0.22 , 0.628, 0.693,\n",
       "       0.814, 0.857, 0.337, 0.142, 0.229, 0.335, 0.89 , 0.474, 0.649,\n",
       "       0.399, 0.956, 0.912, 0.238, 0.376, 0.762, 0.629, 0.363, 0.687,\n",
       "       0.726, 0.251, 0.68 , 0.243, 0.456, 0.355, 0.881, 0.591, 0.626,\n",
       "       0.294, 0.307, 0.541, 0.534, 0.465, 0.352, 0.686, 0.674, 0.757,\n",
       "       0.083, 0.459, 0.754, 0.415, 0.716, 0.466, 0.393, 0.86 , 0.793,\n",
       "       0.76 , 0.759, 0.273, 0.242, 0.428, 0.278, 0.122, 0.623, 0.731,\n",
       "       0.822, 0.666, 0.32 , 0.306, 0.252, 0.659, 0.431, 0.237, 0.794,\n",
       "       0.789, 0.713, 0.437, 0.806, 0.29 , 0.151, 0.214, 0.784, 0.119,\n",
       "       0.293, 0.291, 0.077, 0.227, 0.779, 0.206, 0.911, 0.022, 0.025,\n",
       "       0.723, 0.655, 0.295, 0.256, 0.387, 0.922, 0.701, 0.755, 0.33 ,\n",
       "       0.896, 0.668, 0.309, 0.845, 0.14 , 0.835, 0.671, 0.963, 0.804,\n",
       "       0.753, 0.329, 0.279, 0.761, 0.724, 0.81 , 0.349, 0.416, 0.787,\n",
       "       0.248, 0.299, 0.864, 0.19 , 0.146, 0.213, 0.117, 0.741, 0.721,\n",
       "       0.856, 0.277, 0.304, 0.366, 0.434, 0.112, 0.765, 0.194, 0.838,\n",
       "       0.871, 0.925, 0.616, 0.272, 0.888, 0.632, 0.211, 0.887, 0.118,\n",
       "       0.205, 0.21 , 0.842, 0.938, 0.268, 0.91 , 0.831, 0.24 , 0.236,\n",
       "       0.855, 0.449, 0.316, 0.201, 0.16 , 0.228, 0.566, 0.955, 0.155,\n",
       "       0.895, 0.878, 0.909, 0.301, 0.636, 0.682, 0.82 , 0.115, 0.198,\n",
       "       0.259, 0.908, 0.089, 0.158, 0.832, 0.83 , 0.216, 0.099, 0.776,\n",
       "       0.846, 0.818, 0.837, 0.821, 0.144, 0.138, 0.186, 0.111, 0.173,\n",
       "       0.952, 0.169, 0.958, 0.745, 0.843, 0.829, 0.774, 0.988, 0.336,\n",
       "       0.892, 0.886, 0.862, 0.139, 0.135, 0.894, 0.241, 0.824, 0.298,\n",
       "       0.907, 0.274, 0.801, 0.839, 0.819, 0.691, 0.791, 0.854, 0.269,\n",
       "       0.073, 0.827, 0.879, 0.141, 0.929, 0.823, 0.147, 0.148, 0.743,\n",
       "       0.748, 0.171, 0.107, 0.172, 0.785, 0.174, 0.813, 0.884, 0.246,\n",
       "       0.858, 0.803, 0.209, 0.284, 0.203, 0.732, 0.094, 0.777, 0.185,\n",
       "       0.17 , 0.799, 0.257, 0.159, 0.976, 0.093, 0.056, 0.23 , 0.231,\n",
       "       0.851, 0.042, 0.797, 0.13 , 0.885])"
      ]
     },
     "execution_count": 129,
     "metadata": {},
     "output_type": "execute_result"
    }
   ],
   "source": [
    "# Cross-checking the unique values \n",
    "reviews['Sentiment_Subjectivity'].unique()"
   ]
  },
  {
   "cell_type": "code",
   "execution_count": 130,
   "id": "d14fd7fb",
   "metadata": {},
   "outputs": [
    {
     "data": {
      "text/plain": [
       "count    37427.000000\n",
       "mean         0.492770\n",
       "std          0.259905\n",
       "min          0.000000\n",
       "25%          0.357000\n",
       "50%          0.514000\n",
       "75%          0.650000\n",
       "max          1.000000\n",
       "Name: Sentiment_Subjectivity, dtype: float64"
      ]
     },
     "execution_count": 130,
     "metadata": {},
     "output_type": "execute_result"
    }
   ],
   "source": [
    "# Looking at description of Sentiment_Subjectivity column\n",
    "\n",
    "reviews['Sentiment_Subjectivity'].describe()"
   ]
  },
  {
   "cell_type": "markdown",
   "id": "5f563bfe",
   "metadata": {},
   "source": [
    "**After cleaning both the files**"
   ]
  },
  {
   "cell_type": "code",
   "execution_count": 131,
   "id": "7bc5ef3f",
   "metadata": {},
   "outputs": [
    {
     "data": {
      "text/plain": [
       "(9626, 14)"
      ]
     },
     "execution_count": 131,
     "metadata": {},
     "output_type": "execute_result"
    }
   ],
   "source": [
    "# new dimension of apps dataset\n",
    "\n",
    "apps.shape"
   ]
  },
  {
   "cell_type": "markdown",
   "id": "ff51391e",
   "metadata": {},
   "source": [
    "- older dimension (10841,13)"
   ]
  },
  {
   "cell_type": "code",
   "execution_count": 132,
   "id": "e36c18d5",
   "metadata": {},
   "outputs": [
    {
     "data": {
      "text/plain": [
       "(37427, 5)"
      ]
     },
     "execution_count": 132,
     "metadata": {},
     "output_type": "execute_result"
    }
   ],
   "source": [
    "# new dimension of reviews dataset\n",
    "\n",
    "reviews.shape"
   ]
  },
  {
   "cell_type": "markdown",
   "id": "d14190a0",
   "metadata": {},
   "source": [
    "- older dimension (64295,5)"
   ]
  },
  {
   "cell_type": "markdown",
   "id": "e90db87a",
   "metadata": {},
   "source": [
    "**converting new cleaned files to csv**"
   ]
  },
  {
   "cell_type": "code",
   "execution_count": 133,
   "id": "1f0900f6",
   "metadata": {},
   "outputs": [],
   "source": [
    "# Converting apps to cleaned_playstore_apps.csv\n",
    "\n",
    "apps.to_csv('cleaned_playstore_apps.csv', header=True, index=False)"
   ]
  },
  {
   "cell_type": "code",
   "execution_count": 134,
   "id": "620eee1c",
   "metadata": {},
   "outputs": [],
   "source": [
    "# Converting reviewss to cleaned_playstore_reviews.csv\n",
    "\n",
    "reviews.to_csv('cleaned_playstore_reviews.csv', header=True, index=False)"
   ]
  }
 ],
 "metadata": {
  "kernelspec": {
   "display_name": "Python 3",
   "language": "python",
   "name": "python3"
  },
  "language_info": {
   "codemirror_mode": {
    "name": "ipython",
    "version": 3
   },
   "file_extension": ".py",
   "mimetype": "text/x-python",
   "name": "python",
   "nbconvert_exporter": "python",
   "pygments_lexer": "ipython3",
   "version": "3.8.8"
  }
 },
 "nbformat": 4,
 "nbformat_minor": 5
}
